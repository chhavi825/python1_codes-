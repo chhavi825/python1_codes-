{
  "cells": [
    {
      "cell_type": "code",
      "execution_count": null,
      "metadata": {
        "colab": {
          "base_uri": "https://localhost:8080/"
        },
        "id": "waHUtmr6kdI9",
        "outputId": "9e52cfbb-796e-4e99-f2c9-d3aeb90bd36a"
      },
      "outputs": [
        {
          "output_type": "stream",
          "name": "stdout",
          "text": [
            "[1, 2, 3]\n",
            "[2, 3, 4]\n",
            "[1, 2, 3, 4, 5, 6, 7]\n",
            "[1, 2, 3, 4, 5, 6, 7]\n",
            "[1, 2, 3, 4]\n",
            "[4, 5, 6]\n",
            "[1, 3, 5]\n",
            "[1, 2, 3, 4, 5, 6]\n",
            "[1, 4, 7]\n",
            "[1, 2, 3, 4, 5, 6, 7]\n"
          ]
        }
      ],
      "source": [
        "list_1=[1,2,3,4,5,6,7]\n",
        "print(list_1[0:3])\n",
        "print(list_1[1:4])\n",
        "print(list_1[0:10])\n",
        "print(list_1[0:])\n",
        "print(list_1[:4])\n",
        "print(list_1[-4:-1])\n",
        "print(list_1[0:6:2])\n",
        "print(list_1[0:6:1])\n",
        "print(list_1[0:7:3])\n",
        "\n",
        "list_1.sort()\n",
        "print(list_1)"
      ]
    },
    {
      "cell_type": "code",
      "execution_count": null,
      "metadata": {
        "colab": {
          "base_uri": "https://localhost:8080/"
        },
        "id": "S3MbfPBtk2-L",
        "outputId": "c51312ed-62fc-44d9-f65d-573d7fb1c344"
      },
      "outputs": [
        {
          "name": "stdout",
          "output_type": "stream",
          "text": [
            "[1, 2, 3, 4, 5, 6, 7, 1, 2, 4]\n"
          ]
        }
      ],
      "source": [
        "list.extend([1,2,4])\n",
        "print(list)"
      ]
    },
    {
      "cell_type": "code",
      "execution_count": null,
      "metadata": {
        "colab": {
          "base_uri": "https://localhost:8080/"
        },
        "id": "nmkGZi44morL",
        "outputId": "3a99798d-403f-49d9-bb0d-592e38275ef8"
      },
      "outputs": [
        {
          "name": "stdout",
          "output_type": "stream",
          "text": [
            "[1, 2, 2, 3, 4, 5, 6, 7, 1, 2, 4]\n"
          ]
        }
      ],
      "source": [
        "list.insert(1,2)\n",
        "print(list)"
      ]
    },
    {
      "cell_type": "code",
      "execution_count": null,
      "metadata": {
        "colab": {
          "base_uri": "https://localhost:8080/"
        },
        "id": "rqJqQvBYmyzB",
        "outputId": "9456d67f-47a6-4247-d97f-79fe1d400d63"
      },
      "outputs": [
        {
          "name": "stdout",
          "output_type": "stream",
          "text": [
            "[1, 2, 2, 3, 4, 5, 6, 7, 1, 2, 4, 20]\n"
          ]
        }
      ],
      "source": [
        "list.append(20)\n",
        "print(list)"
      ]
    },
    {
      "cell_type": "code",
      "execution_count": null,
      "metadata": {
        "colab": {
          "base_uri": "https://localhost:8080/"
        },
        "id": "pulic-pNm153",
        "outputId": "a4aafb4f-7716-43bf-8941-cbb19dfe34ac"
      },
      "outputs": [
        {
          "name": "stdout",
          "output_type": "stream",
          "text": [
            "[1, 2, 2, 30, 4, 5, 6, 7, 1, 2, 4, 20]\n"
          ]
        }
      ],
      "source": [
        "list[3]=30\n",
        "print(list)"
      ]
    },
    {
      "cell_type": "code",
      "execution_count": null,
      "metadata": {
        "colab": {
          "base_uri": "https://localhost:8080/"
        },
        "id": "rCYvoNKjm351",
        "outputId": "83bb63ec-f001-431c-8993-387fa12760d2"
      },
      "outputs": [
        {
          "name": "stdout",
          "output_type": "stream",
          "text": [
            "[1, 2, 2, 290, 300, 100, 5, 6, 7, 1, 2, 4, 20]\n"
          ]
        }
      ],
      "source": [
        "list[3:5] = [290,300,100]\n",
        "print(list)"
      ]
    },
    {
      "cell_type": "code",
      "execution_count": null,
      "metadata": {
        "colab": {
          "base_uri": "https://localhost:8080/"
        },
        "id": "e-pYuTm5m6RU",
        "outputId": "f5f2bf60-52d8-490a-f7d0-9526b2dc0de3"
      },
      "outputs": [
        {
          "name": "stdout",
          "output_type": "stream",
          "text": [
            "[1, 2, 290, 100, 5, 6, 7, 1, 2, 4]\n"
          ]
        }
      ],
      "source": [
        "list.remove(300)\n",
        "print(list)"
      ]
    },
    {
      "cell_type": "code",
      "execution_count": null,
      "metadata": {
        "colab": {
          "base_uri": "https://localhost:8080/"
        },
        "id": "wRmTthv4EScC",
        "outputId": "e5491744-adc6-4719-9bf9-c5faaa4e0480"
      },
      "outputs": [
        {
          "name": "stdout",
          "output_type": "stream",
          "text": [
            "['cherry', 'Kiwi', 'Orange', 'banana']\n"
          ]
        }
      ],
      "source": [
        "thislist = [\"banana\", \"Orange\", \"Kiwi\", \"cherry\"]\n",
        "thislist.reverse()\n",
        "print(thislist)"
      ]
    },
    {
      "cell_type": "code",
      "execution_count": null,
      "metadata": {
        "colab": {
          "base_uri": "https://localhost:8080/"
        },
        "id": "LT-oZC5-EvtP",
        "outputId": "60ab1042-a029-4f9e-bb13-f5ae63dd02e9"
      },
      "outputs": [
        {
          "name": "stdout",
          "output_type": "stream",
          "text": [
            "['apple', 'banana', 'cherry']\n",
            "['apple', 'banana', 'cherry']\n"
          ]
        }
      ],
      "source": [
        "thislist = [\"apple\", \"banana\", \"cherry\"]\n",
        "mylist = thislist.copy()\n",
        "print(mylist)\n",
        "\n",
        "thislist = [\"apple\", \"banana\", \"cherry\"]\n",
        "mylist = list(thislist)\n",
        "print(mylist)"
      ]
    },
    {
      "cell_type": "code",
      "execution_count": null,
      "metadata": {
        "colab": {
          "base_uri": "https://localhost:8080/"
        },
        "id": "Vf2JvXziFHgl",
        "outputId": "cda0e1b4-d0e1-46ed-bfbb-51d3d96795fd"
      },
      "outputs": [
        {
          "name": "stdout",
          "output_type": "stream",
          "text": [
            "['a', 'b', 'c', 1, 2, 3]\n"
          ]
        }
      ],
      "source": [
        "list1 = [\"a\", \"b\", \"c\"]\n",
        "list2 = [1, 2, 3]\n",
        "\n",
        "list3 = list1 + list2\n",
        "print(list3)\n"
      ]
    },
    {
      "cell_type": "code",
      "execution_count": null,
      "metadata": {
        "colab": {
          "base_uri": "https://localhost:8080/"
        },
        "id": "_YQySU9fFa4_",
        "outputId": "c014620d-de52-4240-af9b-bc3d50df6b30"
      },
      "outputs": [
        {
          "name": "stdout",
          "output_type": "stream",
          "text": [
            "['a', 'b', 'c', 1, 2, 3]\n"
          ]
        }
      ],
      "source": [
        "list1 = [\"a\", \"b\" , \"c\"]\n",
        "list2 = [1, 2, 3]\n",
        "\n",
        "for x in list2:\n",
        "  list1.append(x)\n",
        "\n",
        "print(list1)"
      ]
    },
    {
      "cell_type": "code",
      "execution_count": null,
      "metadata": {
        "colab": {
          "base_uri": "https://localhost:8080/"
        },
        "id": "p-zO7mwVnOfN",
        "outputId": "0992bdc3-bb79-43ea-8a14-b90013e3defd"
      },
      "outputs": [
        {
          "name": "stdout",
          "output_type": "stream",
          "text": [
            "['apple', 'cherry']\n",
            "['apple']\n"
          ]
        }
      ],
      "source": [
        "\n",
        "thislist = [\"apple\", \"banana\", \"cherry\"]\n",
        "thislist.pop(1)\n",
        "print(thislist)\n",
        "thislist.pop()\n",
        "print(thislist)\n",
        "\n"
      ]
    },
    {
      "cell_type": "code",
      "execution_count": null,
      "metadata": {
        "colab": {
          "base_uri": "https://localhost:8080/"
        },
        "id": "CkEZVNVnfFfm",
        "outputId": "296fbf42-f9e2-4001-8820-63e02662c63d"
      },
      "outputs": [
        {
          "name": "stdout",
          "output_type": "stream",
          "text": [
            "['banana', 'cherry']\n"
          ]
        }
      ],
      "source": [
        "thislist = [\"apple\", \"banana\", \"cherry\"]\n",
        "del thislist[0]\n",
        "print(thislist)"
      ]
    },
    {
      "cell_type": "code",
      "execution_count": null,
      "metadata": {
        "colab": {
          "base_uri": "https://localhost:8080/"
        },
        "id": "Q09Vr2DTfJmu",
        "outputId": "86fa1cbf-32de-4c3f-932d-3a7980adc428"
      },
      "outputs": [
        {
          "name": "stdout",
          "output_type": "stream",
          "text": [
            "[]\n"
          ]
        }
      ],
      "source": [
        "thislist = [\"apple\", \"banana\", \"cherry\"]\n",
        "thislist.clear()\n",
        "print(thislist)"
      ]
    },
    {
      "cell_type": "code",
      "execution_count": null,
      "metadata": {
        "colab": {
          "base_uri": "https://localhost:8080/"
        },
        "id": "UMvHq37Xp74H",
        "outputId": "ce6e3c82-58c5-4fc1-de11-592177282576"
      },
      "outputs": [
        {
          "name": "stdout",
          "output_type": "stream",
          "text": [
            "['apple', 'banana', 'cherry']\n"
          ]
        }
      ],
      "source": [
        "thislist = list((\"apple\", \"banana\", \"cherry\"))\n",
        "print(thislist)\n"
      ]
    },
    {
      "cell_type": "code",
      "execution_count": null,
      "metadata": {
        "colab": {
          "base_uri": "https://localhost:8080/"
        },
        "id": "SDFu14t0b_VF",
        "outputId": "e7b670b3-7b35-4161-c9e2-d06dc5b44ea2"
      },
      "outputs": [
        {
          "name": "stdout",
          "output_type": "stream",
          "text": [
            "['apple', 'blackcurrant', 'cherry']\n"
          ]
        }
      ],
      "source": [
        "thislist = [\"apple\", \"banana\", \"cherry\"]\n",
        "thislist[1] = \"blackcurrant\"\n",
        "print(thislist)"
      ]
    },
    {
      "cell_type": "code",
      "execution_count": null,
      "metadata": {
        "colab": {
          "base_uri": "https://localhost:8080/"
        },
        "id": "JfvPkC-wdUgt",
        "outputId": "fff10938-5df1-4d1b-fdc1-4e4be8b6a516"
      },
      "outputs": [
        {
          "name": "stdout",
          "output_type": "stream",
          "text": [
            "['apple', 'blackcurrant', 'watermelon', 'orange', 'kiwi', 'mango']\n"
          ]
        }
      ],
      "source": [
        "thislist = [\"apple\", \"banana\", \"cherry\", \"orange\", \"kiwi\", \"mango\"]\n",
        "thislist[1:3] = [\"blackcurrant\", \"watermelon\"]\n",
        "print(thislist)"
      ]
    },
    {
      "cell_type": "code",
      "execution_count": null,
      "metadata": {
        "colab": {
          "base_uri": "https://localhost:8080/"
        },
        "id": "DtaygPkOb_se",
        "outputId": "b3ce473f-03a6-4b62-9015-9e789815d230"
      },
      "outputs": [
        {
          "name": "stdout",
          "output_type": "stream",
          "text": [
            "['apple', 'banana', 'watermelon', 'cherry']\n"
          ]
        }
      ],
      "source": [
        "thislist = [\"apple\", \"banana\", \"cherry\"]\n",
        "thislist.insert(2, \"watermelon\")\n",
        "print(thislist)\n"
      ]
    },
    {
      "cell_type": "code",
      "execution_count": null,
      "metadata": {
        "colab": {
          "base_uri": "https://localhost:8080/"
        },
        "id": "1Z30khafexxw",
        "outputId": "c1f5601e-56f1-4906-e346-c972b7c24fe3"
      },
      "outputs": [
        {
          "name": "stdout",
          "output_type": "stream",
          "text": [
            "['apple', 'banana', 'cherry', 'kiwi', 'orange']\n"
          ]
        }
      ],
      "source": [
        "thislist = [\"apple\", \"banana\", \"cherry\"]\n",
        "thistuple = (\"kiwi\", \"orange\")\n",
        "thislist.extend(thistuple)\n",
        "print(thislist)"
      ]
    },
    {
      "cell_type": "code",
      "execution_count": null,
      "metadata": {
        "colab": {
          "base_uri": "https://localhost:8080/"
        },
        "id": "5FL2swxBfbM8",
        "outputId": "6492db6f-3fa0-4da4-bd3d-6d450c0ea5b8"
      },
      "outputs": [
        {
          "name": "stdout",
          "output_type": "stream",
          "text": [
            "apple\n",
            "banana\n",
            "cherry\n"
          ]
        }
      ],
      "source": [
        "thislist = [\"apple\", \"banana\", \"cherry\"]\n",
        "for x in thislist:\n",
        "  print(x)"
      ]
    },
    {
      "cell_type": "code",
      "execution_count": null,
      "metadata": {
        "colab": {
          "base_uri": "https://localhost:8080/"
        },
        "id": "N3VBld2VfkrE",
        "outputId": "33d0f248-c03d-403c-e745-e00e2c592dc9"
      },
      "outputs": [
        {
          "name": "stdout",
          "output_type": "stream",
          "text": [
            "apple\n",
            "banana\n",
            "cherry\n"
          ]
        }
      ],
      "source": [
        "thislist = [\"apple\", \"banana\", \"cherry\"]\n",
        "for x in range(len(thislist)):\n",
        "  print(thislist[x])"
      ]
    },
    {
      "cell_type": "code",
      "execution_count": null,
      "metadata": {
        "colab": {
          "base_uri": "https://localhost:8080/"
        },
        "id": "Y4CQqg_rhGag",
        "outputId": "ae04e3f7-a200-4362-e67c-4bea5af9873f"
      },
      "outputs": [
        {
          "name": "stdout",
          "output_type": "stream",
          "text": [
            "apple\n",
            "banana\n",
            "cherry\n"
          ]
        }
      ],
      "source": [
        "thislist = [\"apple\", \"banana\", \"cherry\"]\n",
        "i = 0\n",
        "while i < len(thislist):\n",
        "  print(thislist[i])\n",
        "  i = i + 1\n"
      ]
    },
    {
      "cell_type": "code",
      "execution_count": null,
      "metadata": {
        "colab": {
          "base_uri": "https://localhost:8080/"
        },
        "id": "-4ujzl9she_F",
        "outputId": "f5711842-1f52-46ed-87b0-590dad4ef3ba"
      },
      "outputs": [
        {
          "name": "stdout",
          "output_type": "stream",
          "text": [
            "apple\n",
            "banana\n",
            "cherry\n"
          ]
        },
        {
          "data": {
            "text/plain": [
              "[None, None, None]"
            ]
          },
          "execution_count": 19,
          "metadata": {},
          "output_type": "execute_result"
        }
      ],
      "source": [
        "thislist = [\"apple\", \"banana\", \"cherry\"]\n",
        "[print(x) for x in thislist]"
      ]
    },
    {
      "cell_type": "code",
      "execution_count": null,
      "metadata": {
        "colab": {
          "base_uri": "https://localhost:8080/"
        },
        "id": "6_-inmzPx1OF",
        "outputId": "a0f50404-976d-4593-cc0b-55880492e913"
      },
      "outputs": [
        {
          "name": "stdout",
          "output_type": "stream",
          "text": [
            "['apple', 'banana', 'mango']\n"
          ]
        }
      ],
      "source": [
        "fruits = [\"apple\", \"banana\", \"cherry\", \"kiwi\", \"mango\"]\n",
        "newlist = []\n",
        "\n",
        "for x in fruits:\n",
        "  if \"a\" in x:\n",
        "    newlist.append(x)\n",
        "\n",
        "print(newlist)\n"
      ]
    },
    {
      "cell_type": "code",
      "execution_count": null,
      "metadata": {
        "colab": {
          "base_uri": "https://localhost:8080/"
        },
        "id": "FQyhzkLS49jn",
        "outputId": "3bc41c2f-5533-4e40-fbd9-dcf950eaf845"
      },
      "outputs": [
        {
          "name": "stdout",
          "output_type": "stream",
          "text": [
            "['apple', 'banana', 'mango']\n"
          ]
        }
      ],
      "source": [
        "fruits = [\"apple\", \"banana\", \"cherry\", \"kiwi\", \"mango\"]\n",
        "\n",
        "newlist = [x for x in fruits if \"a\" in x]\n",
        "\n",
        "print(newlist)\n"
      ]
    },
    {
      "cell_type": "code",
      "execution_count": null,
      "metadata": {
        "colab": {
          "base_uri": "https://localhost:8080/"
        },
        "id": "zWwDAxdm5dPZ",
        "outputId": "218ded41-e3d8-49b8-edb9-6d7b0fccab4b"
      },
      "outputs": [
        {
          "name": "stdout",
          "output_type": "stream",
          "text": [
            "['banana', 'cherry', 'kiwi', 'mango']\n"
          ]
        }
      ],
      "source": [
        "fruits = [\"apple\", \"banana\", \"cherry\", \"kiwi\", \"mango\"]\n",
        "newlist = [x for x in fruits if x != \"apple\"]\n",
        "print(newlist)"
      ]
    },
    {
      "cell_type": "code",
      "execution_count": null,
      "metadata": {
        "colab": {
          "base_uri": "https://localhost:8080/"
        },
        "id": "5lm8MzJr-kNw",
        "outputId": "c393decf-a81e-4e7b-e96e-60e2eb37dbc2"
      },
      "outputs": [
        {
          "name": "stdout",
          "output_type": "stream",
          "text": [
            "['apple', 'banana', 'cherry', 'kiwi', 'mango']\n",
            "['APPLE', 'BANANA', 'CHERRY', 'KIWI', 'MANGO']\n",
            "['hello', 'hello', 'hello', 'hello', 'hello']\n",
            "['apple', 'orange', 'cherry', 'kiwi', 'mango']\n"
          ]
        }
      ],
      "source": [
        "fruits = [\"apple\", \"banana\", \"cherry\", \"kiwi\", \"mango\"]\n",
        "newlist = [x for x in fruits]\n",
        "print(newlist)\n",
        "\n",
        "newlist = [x.upper() for x in fruits]\n",
        "print(newlist)\n",
        "\n",
        "newlist = ['hello' for x in fruits]\n",
        "print(newlist)\n",
        "\n",
        "newlist = [x if x != \"banana\" else \"orange\" for x in fruits]\n",
        "print(newlist)\n"
      ]
    },
    {
      "cell_type": "code",
      "execution_count": null,
      "metadata": {
        "colab": {
          "base_uri": "https://localhost:8080/"
        },
        "id": "c38KxwrB-lmT",
        "outputId": "cf99455c-b854-42e4-f658-33d1d4691894"
      },
      "outputs": [
        {
          "name": "stdout",
          "output_type": "stream",
          "text": [
            "[0, 1, 2, 3, 4, 5, 6, 7, 8, 9]\n",
            "[0, 1, 2, 3, 4]\n"
          ]
        }
      ],
      "source": [
        "newlist = [x for x in range(10)]\n",
        "print(newlist)\n",
        "newlist = [x for x in range(10) if x < 5]\n",
        "print(newlist)\n"
      ]
    },
    {
      "cell_type": "code",
      "execution_count": null,
      "metadata": {
        "colab": {
          "base_uri": "https://localhost:8080/"
        },
        "id": "9GQ6naMM-l0G",
        "outputId": "9a673132-2564-44e6-cacc-2aaefd60131b"
      },
      "outputs": [
        {
          "name": "stdout",
          "output_type": "stream",
          "text": [
            "[1, 2, 3, 4, 5, 6]\n"
          ]
        }
      ],
      "source": [
        "thislist = [1,6,3,4,5,2]\n",
        "thislist.sort()\n",
        "print(thislist)\n"
      ]
    },
    {
      "cell_type": "code",
      "execution_count": null,
      "metadata": {
        "colab": {
          "base_uri": "https://localhost:8080/"
        },
        "id": "cZGh2HJy-nVt",
        "outputId": "7a4604a0-1019-4a51-f76a-9bda74533d6f"
      },
      "outputs": [
        {
          "name": "stdout",
          "output_type": "stream",
          "text": [
            "['Kiwi', 'Orange', 'banana', 'cherry']\n"
          ]
        }
      ],
      "source": [
        "thislist = [\"banana\", \"Orange\", \"Kiwi\", \"cherry\"]\n",
        "thislist.sort()\n",
        "print(thislist)\n"
      ]
    },
    {
      "cell_type": "code",
      "execution_count": null,
      "metadata": {
        "colab": {
          "base_uri": "https://localhost:8080/"
        },
        "id": "WV2mrChLDeQ5",
        "outputId": "a41ed265-7c8b-4d24-edb3-6414fb01e3cf"
      },
      "outputs": [
        {
          "name": "stdout",
          "output_type": "stream",
          "text": [
            "['banana', 'orange', 'kiwi', 'cherry']\n",
            "['banana', 'cherry', 'kiwi', 'orange']\n"
          ]
        }
      ],
      "source": [
        "thislist = [\"banana\", \"Orange\", \"Kiwi\", \"cherry\"]\n",
        "new=[x.lower() for x in thislist]\n",
        "print(new)\n",
        "new.sort()\n",
        "print(new)"
      ]
    },
    {
      "cell_type": "code",
      "execution_count": null,
      "metadata": {
        "colab": {
          "base_uri": "https://localhost:8080/"
        },
        "id": "T1BOQOq5HmlJ",
        "outputId": "132a70db-8dd4-4c7e-a5c7-128fd2b5d227"
      },
      "outputs": [
        {
          "name": "stdout",
          "output_type": "stream",
          "text": [
            "0\n"
          ]
        }
      ],
      "source": [
        "fruits=[\"apple\",\"banana\",\"mango\"]\n",
        "print(fruits.count(1))"
      ]
    },
    {
      "cell_type": "code",
      "execution_count": null,
      "metadata": {
        "colab": {
          "base_uri": "https://localhost:8080/"
        },
        "id": "LDu6dQIaKKRg",
        "outputId": "74134cc8-707e-4860-ea16-948f1b8aecf5"
      },
      "outputs": [
        {
          "name": "stdout",
          "output_type": "stream",
          "text": [
            "1\n",
            "2\n",
            "0.24958511362667302\n",
            "1.1596870612113657\n",
            "[1, 3, 4, 2, 5]\n",
            "[5, 1, 2, 3, 4]\n"
          ]
        }
      ],
      "source": [
        "import random\n",
        "a=random.randint(1,3)\n",
        "print(a)\n",
        "b=random.randrange(1,3)\n",
        "print(b)\n",
        "c=random.random()\n",
        "print(c)\n",
        "d=random.uniform(1,3)\n",
        "print(d)\n",
        "l=[1,3,4,2,5]\n",
        "random.choice(l)\n",
        "print(l)\n",
        "random.shuffle(l)\n",
        "print(l)\n"
      ]
    },
    {
      "cell_type": "code",
      "execution_count": null,
      "metadata": {
        "colab": {
          "base_uri": "https://localhost:8080/"
        },
        "id": "zEDm0994Z2ku",
        "outputId": "2d9411b4-fcf6-412d-88ea-9a0eefe61e95"
      },
      "outputs": [
        {
          "name": "stdout",
          "output_type": "stream",
          "text": [
            "head\n"
          ]
        }
      ],
      "source": [
        "import random\n",
        "side=random.randint(0,1)\n",
        "if side == 0:\n",
        "  print(\"head\")\n",
        "else:\n",
        "  print(\"tails\")"
      ]
    },
    {
      "cell_type": "code",
      "execution_count": null,
      "metadata": {
        "colab": {
          "base_uri": "https://localhost:8080/"
        },
        "id": "ZY5lDtUWN7oh",
        "outputId": "9fa276b4-7cf7-458d-c64d-d2e698e1bd1a"
      },
      "outputs": [
        {
          "name": "stdout",
          "output_type": "stream",
          "text": [
            "enter nameschahvi aena ravi\n",
            "['chahvi', 'aena', 'ravi']\n",
            "3\n",
            "chahvi will pay \n"
          ]
        }
      ],
      "source": [
        "import random\n",
        "names=input(\"enter names\")\n",
        "names1=names.split(\" \")\n",
        "print(names1)\n",
        "length=len(names1)\n",
        "print(length)\n",
        "a=random.randint(0,length-1)\n",
        "print(f\"{names1[a]} will pay \")"
      ]
    },
    {
      "cell_type": "code",
      "execution_count": null,
      "metadata": {
        "colab": {
          "base_uri": "https://localhost:8080/"
        },
        "id": "VRc07aw3OJEC",
        "outputId": "bb5b5807-e82d-4dc1-f6db-aa158f1b8eed"
      },
      "outputs": [
        {
          "name": "stdout",
          "output_type": "stream",
          "text": [
            "enter nameschhavi aena addy \n",
            "chhavi will pay \n"
          ]
        }
      ],
      "source": [
        "import random\n",
        "names=input(\"enter names\")\n",
        "names1=names.split(\" \")\n",
        "a=random.choice(names1)\n",
        "print(f\"{a} will pay \")\n"
      ]
    },
    {
      "cell_type": "code",
      "execution_count": null,
      "metadata": {
        "colab": {
          "base_uri": "https://localhost:8080/"
        },
        "id": "Z8vU1IkwPsaN",
        "outputId": "8aaa5a31-c7a0-4141-8a10-612ea929aa72"
      },
      "outputs": [
        {
          "name": "stdout",
          "output_type": "stream",
          "text": [
            "6\n",
            "he is 4 old\n"
          ]
        }
      ],
      "source": [
        "bit=[1,2,3,4,5,6]\n",
        "pit=len(bit)\n",
        "print(pit)\n",
        "print(f\"he is {bit[-3]} old\")"
      ]
    },
    {
      "cell_type": "code",
      "execution_count": null,
      "metadata": {
        "colab": {
          "base_uri": "https://localhost:8080/"
        },
        "id": "1zLeBBYZWelF",
        "outputId": "b3f8fccd-8de5-4cc2-8502-cfff8add8ff1"
      },
      "outputs": [
        {
          "name": "stdout",
          "output_type": "stream",
          "text": [
            "[4, 5, 6]\n",
            "5\n",
            "6\n",
            "[4, 5, 6]\n",
            "[4, 5]\n",
            "[1, 2, 3, ['riya', 'chhavi'], 4, 5, 6]\n",
            "['riya', 'chhavi']\n"
          ]
        }
      ],
      "source": [
        "list=[1,2,3,[4,5,6]]\n",
        "print(list[3])\n",
        "print(list[3][1])\n",
        "print(list[3][-1])\n",
        "print(list[len(list)-1])\n",
        "print(list[3][0:2])\n",
        "\n",
        "list1=[1,2,3,[\"riya\",\"chhavi\"],4,5,6]\n",
        "print(list1)\n",
        "print(list1[3])"
      ]
    },
    {
      "cell_type": "code",
      "execution_count": null,
      "metadata": {
        "colab": {
          "base_uri": "https://localhost:8080/"
        },
        "id": "lVAvYJxHYO7P",
        "outputId": "a7618896-9c71-4f0d-a04c-698a1b85248a"
      },
      "outputs": [
        {
          "output_type": "stream",
          "name": "stdout",
          "text": [
            "['🤣', '🤣', '🤣']\n",
            "['🤣', '🤣', '🤣']\n",
            "['🤣', '🤣', '🤣']\n",
            "enter where to hide the money32\n",
            "['🤣', '🤣', '🤣']\n",
            " ['🤣', '🤣', '🤣']\n",
            " ['🤣', 'X', '🤣']\n"
          ]
        }
      ],
      "source": [
        "row1=['🤣','🤣','🤣']\n",
        "row2=['🤣','🤣','🤣']\n",
        "row3=['🤣','🤣','🤣']\n",
        "matrix=[row1,row2,row3]\n",
        "print(f\"{row1}\\n{row2}\\n{row3}\")\n",
        "position=input(\"enter where to hide the money\")\n",
        "#32\n",
        "row_number=int(position[0])\n",
        "coloum_number=int(position[1])\n",
        "row_selected=matrix[row_number-1]\n",
        "row_selected[coloum_number-1]='X'\n",
        "print(f\"{row1}\\n {row2}\\n {row3}\")\n"
      ]
    },
    {
      "cell_type": "code",
      "source": [
        "import random\n",
        "matrix = [[1,2,3,],\n",
        "          [2,3,4,],\n",
        "          [3,4,5,]]\n",
        "x = int(input(\"enter the row position \") )\n",
        "y = int(input(\"enter column\"))\n",
        "z = int(input(\"enter the value\"))\n",
        "matrix[x][y] = z\n",
        "print(matrix)\n",
        "list=[0,1,2]\n",
        "a=random.choice(list)\n",
        "if a==0:\n",
        "  print(\"chhavi pays\")\n",
        "elif a==1:\n",
        "  print(\"ravi pays\")\n",
        "else:\n",
        "  print(\"divyam pays\")"
      ],
      "metadata": {
        "colab": {
          "base_uri": "https://localhost:8080/"
        },
        "id": "Un6nAs9n90tO",
        "outputId": "5e119612-2a37-4086-f405-716b6ea21a8e"
      },
      "execution_count": null,
      "outputs": [
        {
          "output_type": "stream",
          "name": "stdout",
          "text": [
            "enter the row position 1\n",
            "enter column1\n",
            "enter the value2\n",
            "[[1, 2, 3], [2, 2, 4], [3, 4, 5]]\n",
            "chhavi pays\n"
          ]
        }
      ]
    },
    {
      "cell_type": "code",
      "source": [
        "list=[0,1,2]\n",
        "a=random.choice(list)\n",
        "if a==0:\n",
        "  print(\"chhavi pays\")\n",
        "elif a==1:\n",
        "  print(\"ravi pays\")\n",
        "else:\n",
        "  print(\"divyam pays\")"
      ],
      "metadata": {
        "colab": {
          "base_uri": "https://localhost:8080/"
        },
        "id": "aDbfCsPd-_35",
        "outputId": "13dd6671-0932-435d-b6a5-77db16111ddc"
      },
      "execution_count": null,
      "outputs": [
        {
          "output_type": "stream",
          "name": "stdout",
          "text": [
            "divyam pays\n"
          ]
        }
      ]
    }
  ],
  "metadata": {
    "colab": {
      "provenance": []
    },
    "kernelspec": {
      "display_name": "Python 3",
      "name": "python3"
    },
    "language_info": {
      "name": "python"
    }
  },
  "nbformat": 4,
  "nbformat_minor": 0
}