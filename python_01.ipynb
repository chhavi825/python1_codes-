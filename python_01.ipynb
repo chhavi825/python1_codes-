{
  "nbformat": 4,
  "nbformat_minor": 0,
  "metadata": {
    "colab": {
      "provenance": []
    },
    "kernelspec": {
      "name": "python3",
      "display_name": "Python 3"
    },
    "language_info": {
      "name": "python"
    }
  },
  "cells": [
    {
      "cell_type": "code",
      "execution_count": null,
      "metadata": {
        "colab": {
          "base_uri": "https://localhost:8080/"
        },
        "id": "vcc93b0v-FZZ",
        "outputId": "0e2d1cbe-a0f9-43a3-fd33-6882fe5fdd37"
      },
      "outputs": [
        {
          "output_type": "stream",
          "name": "stdout",
          "text": [
            "helloworld\n"
          ]
        }
      ],
      "source": [
        "a=\"hello\"\n",
        "b=\"world\"\n",
        "c=a+b\n",
        "print(c)"
      ]
    },
    {
      "cell_type": "code",
      "source": [
        "print(\"hello\"+\" world\")"
      ],
      "metadata": {
        "id": "pzF5YIDU3e_C"
      },
      "execution_count": null,
      "outputs": []
    },
    {
      "cell_type": "code",
      "source": [
        "a=\"hello,world!\"\n",
        "print(a.upper())\n",
        "print(a.lower())\n",
        "print(a.strip())\n",
        "print(a.replace(\"h\",\"j\"))\n",
        "print(a.split(\"o\"))"
      ],
      "metadata": {
        "colab": {
          "base_uri": "https://localhost:8080/"
        },
        "id": "g3JfvXcp11aQ",
        "outputId": "146c2578-6722-48c0-ea37-cd778c224e11"
      },
      "execution_count": null,
      "outputs": [
        {
          "output_type": "stream",
          "name": "stdout",
          "text": [
            "HELLO,WORLD!\n",
            "hello,world!\n",
            "hello,world!\n",
            "jello,world!\n",
            "['hell', ',w', 'rld!']\n"
          ]
        }
      ]
    },
    {
      "cell_type": "code",
      "source": [
        "number=input(\"number\")\n",
        "#sum=int(number[0])+int(number[1])\n",
        "#print(sum)\n",
        "print(int(number[0])+int(number[1]))"
      ],
      "metadata": {
        "colab": {
          "base_uri": "https://localhost:8080/"
        },
        "id": "ahux8Enw11l3",
        "outputId": "40455a77-09fe-42c2-b8bc-15d0a3664d9c"
      },
      "execution_count": null,
      "outputs": [
        {
          "output_type": "stream",
          "name": "stdout",
          "text": [
            "number25\n",
            "7\n"
          ]
        }
      ]
    },
    {
      "cell_type": "code",
      "source": [
        "a=input(\"number\")\n",
        "b=input(\"number1\")\n",
        "sum=int(number)+int(number1)\n",
        "print(sum)"
      ],
      "metadata": {
        "colab": {
          "base_uri": "https://localhost:8080/",
          "height": 262
        },
        "id": "oFpnhAFg11u4",
        "outputId": "dfdc08b3-29eb-42f3-c223-71b982701908"
      },
      "execution_count": null,
      "outputs": [
        {
          "name": "stdout",
          "output_type": "stream",
          "text": [
            "number2\n",
            "number15\n"
          ]
        },
        {
          "output_type": "error",
          "ename": "NameError",
          "evalue": "name 'number' is not defined",
          "traceback": [
            "\u001b[0;31m---------------------------------------------------------------------------\u001b[0m",
            "\u001b[0;31mNameError\u001b[0m                                 Traceback (most recent call last)",
            "\u001b[0;32m<ipython-input-1-a5ed97637c06>\u001b[0m in \u001b[0;36m<cell line: 3>\u001b[0;34m()\u001b[0m\n\u001b[1;32m      1\u001b[0m \u001b[0ma\u001b[0m\u001b[0;34m=\u001b[0m\u001b[0minput\u001b[0m\u001b[0;34m(\u001b[0m\u001b[0;34m\"number\"\u001b[0m\u001b[0;34m)\u001b[0m\u001b[0;34m\u001b[0m\u001b[0;34m\u001b[0m\u001b[0m\n\u001b[1;32m      2\u001b[0m \u001b[0mb\u001b[0m\u001b[0;34m=\u001b[0m\u001b[0minput\u001b[0m\u001b[0;34m(\u001b[0m\u001b[0;34m\"number1\"\u001b[0m\u001b[0;34m)\u001b[0m\u001b[0;34m\u001b[0m\u001b[0;34m\u001b[0m\u001b[0m\n\u001b[0;32m----> 3\u001b[0;31m \u001b[0msum\u001b[0m\u001b[0;34m=\u001b[0m\u001b[0mint\u001b[0m\u001b[0;34m(\u001b[0m\u001b[0mnumber\u001b[0m\u001b[0;34m)\u001b[0m\u001b[0;34m+\u001b[0m\u001b[0mint\u001b[0m\u001b[0;34m(\u001b[0m\u001b[0mnumber1\u001b[0m\u001b[0;34m)\u001b[0m\u001b[0;34m\u001b[0m\u001b[0;34m\u001b[0m\u001b[0m\n\u001b[0m\u001b[1;32m      4\u001b[0m \u001b[0mprint\u001b[0m\u001b[0;34m(\u001b[0m\u001b[0msum\u001b[0m\u001b[0;34m)\u001b[0m\u001b[0;34m\u001b[0m\u001b[0;34m\u001b[0m\u001b[0m\n",
            "\u001b[0;31mNameError\u001b[0m: name 'number' is not defined"
          ]
        }
      ]
    },
    {
      "cell_type": "code",
      "source": [
        "x = 5\n",
        "y = \"John\"\n",
        "print(type(x))\n",
        "print(type(y))"
      ],
      "metadata": {
        "colab": {
          "base_uri": "https://localhost:8080/"
        },
        "id": "WumxSLZt19hS",
        "outputId": "94a0b2b9-855e-476c-d3a0-e356c742c590"
      },
      "execution_count": null,
      "outputs": [
        {
          "output_type": "stream",
          "name": "stdout",
          "text": [
            "<class 'int'>\n",
            "<class 'str'>\n"
          ]
        }
      ]
    },
    {
      "cell_type": "code",
      "source": [
        "x = 4       # x is of type int\n",
        "x = \"Sally\" # x is now of type str\n",
        "print(x)"
      ],
      "metadata": {
        "colab": {
          "base_uri": "https://localhost:8080/"
        },
        "id": "00dYqRWV19py",
        "outputId": "b108b096-31e4-47f2-9a5e-ff0421e298ab"
      },
      "execution_count": null,
      "outputs": [
        {
          "output_type": "stream",
          "name": "stdout",
          "text": [
            "Sally\n"
          ]
        }
      ]
    },
    {
      "cell_type": "code",
      "source": [
        "name1=\"CHHAVI\"\n",
        "name2=\"CHAUHAN\"\n",
        "a=2\n",
        "print('name1+ name2')"
      ],
      "metadata": {
        "colab": {
          "base_uri": "https://localhost:8080/"
        },
        "id": "fhqtxtb819xU",
        "outputId": "222601bc-0c0e-4656-f5b8-b3c3d5827674"
      },
      "execution_count": null,
      "outputs": [
        {
          "output_type": "stream",
          "name": "stdout",
          "text": [
            "name1+ name2\n"
          ]
        }
      ]
    },
    {
      "cell_type": "code",
      "source": [
        "name=\"chhavi\"\n",
        "print(name[3])"
      ],
      "metadata": {
        "colab": {
          "base_uri": "https://localhost:8080/"
        },
        "id": "hzQGmW1I194K",
        "outputId": "c0304198-b146-40ec-fdd5-dbb5c3359d67"
      },
      "execution_count": null,
      "outputs": [
        {
          "output_type": "stream",
          "name": "stdout",
          "text": [
            "a\n"
          ]
        }
      ]
    },
    {
      "cell_type": "code",
      "source": [
        "#lecture 11\n",
        "var_1=0b10\n",
        "var_2=0o15\n",
        "print(var_1)\n",
        "print(var_2)\n",
        "print(type(var_1))\n",
        "print(type(var_2))\n",
        "\n",
        "print(var_1+var_2)"
      ],
      "metadata": {
        "colab": {
          "base_uri": "https://localhost:8080/"
        },
        "id": "SyGgYFhR2RqM",
        "outputId": "a734be50-4352-4a38-f608-596f532d344a"
      },
      "execution_count": null,
      "outputs": [
        {
          "output_type": "stream",
          "name": "stdout",
          "text": [
            "2\n",
            "13\n",
            "<class 'int'>\n",
            "<class 'int'>\n",
            "15\n"
          ]
        }
      ]
    },
    {
      "cell_type": "code",
      "source": [
        "print(0x10)"
      ],
      "metadata": {
        "colab": {
          "base_uri": "https://localhost:8080/"
        },
        "id": "gnWdnPWv2Rw8",
        "outputId": "d82cfa2d-91f2-4dd4-f86f-65a5f651ece9"
      },
      "execution_count": null,
      "outputs": [
        {
          "output_type": "stream",
          "name": "stdout",
          "text": [
            "16\n"
          ]
        }
      ]
    },
    {
      "cell_type": "code",
      "source": [
        "a=3\n",
        "print(type(a))"
      ],
      "metadata": {
        "colab": {
          "base_uri": "https://localhost:8080/"
        },
        "id": "bDsKRxAt2R3C",
        "outputId": "0abc9170-cf2b-49ad-da8f-7cb7f5d973c7"
      },
      "execution_count": null,
      "outputs": [
        {
          "output_type": "stream",
          "name": "stdout",
          "text": [
            "<class 'int'>\n"
          ]
        }
      ]
    },
    {
      "cell_type": "code",
      "source": [
        "print('print(\"what\")')\n",
        "print(\"print('what')\")\n",
        "print(\"hello\")\n",
        "print('hello')"
      ],
      "metadata": {
        "colab": {
          "base_uri": "https://localhost:8080/"
        },
        "id": "Mp4bT2Fp2R8y",
        "outputId": "a088772f-7f81-4dab-aea6-0fa6a9f448a6"
      },
      "execution_count": null,
      "outputs": [
        {
          "output_type": "stream",
          "name": "stdout",
          "text": [
            "print(\"what\")\n",
            "print('what')\n",
            "hello\n",
            "hello\n"
          ]
        }
      ]
    },
    {
      "cell_type": "code",
      "source": [
        "print('print('what')')"
      ],
      "metadata": {
        "colab": {
          "base_uri": "https://localhost:8080/",
          "height": 140
        },
        "id": "fx1EY1eS2SBy",
        "outputId": "934ef604-19ae-4c7b-f055-b2c404179022"
      },
      "execution_count": null,
      "outputs": [
        {
          "output_type": "error",
          "ename": "SyntaxError",
          "evalue": "invalid syntax. Perhaps you forgot a comma? (<ipython-input-28-b47abcbd1cbd>, line 1)",
          "traceback": [
            "\u001b[0;36m  File \u001b[0;32m\"<ipython-input-28-b47abcbd1cbd>\"\u001b[0;36m, line \u001b[0;32m1\u001b[0m\n\u001b[0;31m    print('print('what')')\u001b[0m\n\u001b[0m          ^\u001b[0m\n\u001b[0;31mSyntaxError\u001b[0m\u001b[0;31m:\u001b[0m invalid syntax. Perhaps you forgot a comma?\n"
          ]
        }
      ]
    },
    {
      "cell_type": "code",
      "source": [
        "weight=int(input(\"enter weight\\n\"))\n",
        "height=float(input(\"enter the height\\n\"))\n",
        "bmi=weight/height**2\n",
        "print(bmi)"
      ],
      "metadata": {
        "colab": {
          "base_uri": "https://localhost:8080/"
        },
        "id": "_ODwMY7C2SHF",
        "outputId": "8d94ebf2-fe3b-4ae9-b3d2-d64404549ffe"
      },
      "execution_count": null,
      "outputs": [
        {
          "output_type": "stream",
          "name": "stdout",
          "text": [
            "enter weight\n",
            "55\n",
            "enter the height\n",
            "1.5\n",
            "24.444444444444443\n"
          ]
        }
      ]
    },
    {
      "cell_type": "code",
      "source": [
        "x=int(input(\"enter x\"))\n",
        "y=int ( input(\"enter y\"))\n",
        "print(x+y)"
      ],
      "metadata": {
        "colab": {
          "base_uri": "https://localhost:8080/"
        },
        "id": "OOQ1Hgbx2SLt",
        "outputId": "82cfc076-b0ec-49d6-8479-5ae58fa45e28"
      },
      "execution_count": null,
      "outputs": [
        {
          "output_type": "stream",
          "name": "stdout",
          "text": [
            "enter x5\n",
            "enter y5\n",
            "10\n"
          ]
        }
      ]
    },
    {
      "cell_type": "code",
      "source": [
        "age = 36\n",
        "txt = \"My name is John, and I am\"+str(age)\n",
        "print(txt)"
      ],
      "metadata": {
        "colab": {
          "base_uri": "https://localhost:8080/"
        },
        "id": "hlg544jk1a58",
        "outputId": "ca5fca8c-5631-4bfe-d3c6-52a18cd11322"
      },
      "execution_count": null,
      "outputs": [
        {
          "output_type": "stream",
          "name": "stdout",
          "text": [
            "My name is John, and I am36\n"
          ]
        }
      ]
    },
    {
      "cell_type": "code",
      "source": [
        "print(\"10\"+\"10\")\n",
        "print(10+10)"
      ],
      "metadata": {
        "colab": {
          "base_uri": "https://localhost:8080/"
        },
        "id": "Hgm9mDPg22bf",
        "outputId": "40fa6ee0-c131-4bdf-ca3a-80d5f03ddbd1"
      },
      "execution_count": null,
      "outputs": [
        {
          "output_type": "stream",
          "name": "stdout",
          "text": [
            "1010\n",
            "20\n"
          ]
        }
      ]
    },
    {
      "cell_type": "code",
      "source": [
        "x=input(\"enter a word\")\n",
        "print(len(x))"
      ],
      "metadata": {
        "colab": {
          "base_uri": "https://localhost:8080/"
        },
        "id": "KwVkS4Mz22k0",
        "outputId": "e8efd3da-5a5a-4ee7-f6ce-9c3c27758616"
      },
      "execution_count": null,
      "outputs": [
        {
          "output_type": "stream",
          "name": "stdout",
          "text": [
            "enter a wordchhavi \n",
            "7\n"
          ]
        }
      ]
    },
    {
      "cell_type": "code",
      "source": [
        "name=input(\"enter your name\")\n",
        "print(name)"
      ],
      "metadata": {
        "colab": {
          "base_uri": "https://localhost:8080/"
        },
        "id": "jtH55SKK22sQ",
        "outputId": "3b299993-88d3-4bfe-de8f-6eabcde252e1"
      },
      "execution_count": null,
      "outputs": [
        {
          "output_type": "stream",
          "name": "stdout",
          "text": [
            "enter your namechhavi \n",
            "chhavi \n"
          ]
        }
      ]
    },
    {
      "cell_type": "code",
      "source": [
        "a=input(\"enter a\\n\")\n",
        "b=input(\"enter b\\n\")\n",
        "temp=0\n",
        "temp=a\n",
        "a=b\n",
        "b=temp\n",
        "print(a)\n",
        "print(b)\n"
      ],
      "metadata": {
        "id": "TlE80GSp22ys"
      },
      "execution_count": null,
      "outputs": []
    },
    {
      "cell_type": "code",
      "source": [
        "quantity = 3\n",
        "itemno = 567\n",
        "price = 49.95\n",
        "myorder = \"I want to pay\"+ \" \" + str(quantity)+\" \"+ \"dollars for\" + str(price) +\" \"+  \"pieces of item\" +\" \"+ str(itemno)\n",
        "print(myorder)"
      ],
      "metadata": {
        "colab": {
          "base_uri": "https://localhost:8080/"
        },
        "id": "2tK0HU281flv",
        "outputId": "48ee1c97-3893-48ee-8858-77e3779ce6e9"
      },
      "execution_count": null,
      "outputs": [
        {
          "output_type": "stream",
          "name": "stdout",
          "text": [
            "I want to pay 3 dollars for49.95 pieces of item 567\n"
          ]
        }
      ]
    },
    {
      "cell_type": "code",
      "source": [
        "quantity = 3\n",
        "itemno = 567\n",
        "price = 49.95\n",
        "myorder = \"I want to pay {2} dollars for {0} pieces of item {1}.\"\n",
        "print(myorder.format(quantity, itemno, price))"
      ],
      "metadata": {
        "colab": {
          "base_uri": "https://localhost:8080/"
        },
        "id": "caSSx67E1hyP",
        "outputId": "6bbf1d82-287e-4284-c227-01febe56359c"
      },
      "execution_count": null,
      "outputs": [
        {
          "output_type": "stream",
          "name": "stdout",
          "text": [
            "I want to pay 49.95 dollars for 3 pieces of item 567.\n"
          ]
        }
      ]
    },
    {
      "cell_type": "code",
      "source": [
        " #string format\n",
        " quantity = 3\n",
        "itemno = 567\n",
        "price = 49.95\n",
        "myorder = \"I want {} pieces of item, {} for {} dollars.\"\n",
        "print(myorder.format(quantity,itemno,price))"
      ],
      "metadata": {
        "colab": {
          "base_uri": "https://localhost:8080/"
        },
        "id": "yofSj-kS1kZ9",
        "outputId": "5e2bb517-45b8-4e0b-f284-1d42767fa08d"
      },
      "execution_count": null,
      "outputs": [
        {
          "output_type": "stream",
          "name": "stdout",
          "text": [
            "I want 3 pieces of item, 567 for 49.95 dollars.\n"
          ]
        }
      ]
    },
    {
      "cell_type": "code",
      "source": [
        "#operators\n",
        "x=5\n",
        "y=2\n",
        "print(x%y)\n",
        "print(x/y)\n",
        "print(x**y)\n",
        "print(x//y)"
      ],
      "metadata": {
        "colab": {
          "base_uri": "https://localhost:8080/"
        },
        "id": "957w9Hks1ofo",
        "outputId": "7fc1be06-3846-4353-c704-ed2439c7c80e"
      },
      "execution_count": null,
      "outputs": [
        {
          "output_type": "stream",
          "name": "stdout",
          "text": [
            "1\n",
            "2.5\n",
            "25\n",
            "2\n"
          ]
        }
      ]
    },
    {
      "cell_type": "code",
      "source": [
        "a,b,c=5,6,7,\n",
        "print(a)\n",
        "print(b)\n",
        "print(c)"
      ],
      "metadata": {
        "colab": {
          "base_uri": "https://localhost:8080/"
        },
        "id": "dIjNAd2F1pYT",
        "outputId": "97b99024-b9e0-4931-9012-1dbd76660901"
      },
      "execution_count": null,
      "outputs": [
        {
          "output_type": "stream",
          "name": "stdout",
          "text": [
            "5\n",
            "6\n",
            "7\n"
          ]
        }
      ]
    },
    {
      "cell_type": "code",
      "source": [
        "a=5\n",
        "print(~a)\n",
        "print(a<<2)\n",
        "print(a>>2)"
      ],
      "metadata": {
        "colab": {
          "base_uri": "https://localhost:8080/"
        },
        "id": "2vaHB-zm1prH",
        "outputId": "c86617a3-b8f8-4f39-c030-b467730a1cb2"
      },
      "execution_count": null,
      "outputs": [
        {
          "output_type": "stream",
          "name": "stdout",
          "text": [
            "-6\n",
            "20\n",
            "1\n"
          ]
        }
      ]
    },
    {
      "cell_type": "code",
      "source": [
        "\n",
        "input(\"what is your name\")"
      ],
      "metadata": {
        "id": "QB8-_F2g1p0h"
      },
      "execution_count": null,
      "outputs": []
    },
    {
      "cell_type": "code",
      "source": [
        "print(10+10)\n",
        "print(\"10\"+\"10\")\n",
        "print(int(10)+int(10))\n",
        "print(int(\"10\")+int(\"10\"))\n",
        "print(float(\"10\")+int(\"10\"))"
      ],
      "metadata": {
        "id": "ofoUeLK21p8L"
      },
      "execution_count": null,
      "outputs": []
    },
    {
      "cell_type": "code",
      "source": [
        "a=5\n",
        "b=3\n",
        "temp=0\n",
        "temp=a\n",
        "a=b\n",
        "b=temp\n",
        "print(a)\n",
        "print(b)"
      ],
      "metadata": {
        "id": "3jqI98fp1qDb"
      },
      "execution_count": null,
      "outputs": []
    },
    {
      "cell_type": "code",
      "source": [
        "print(\"string manupulation exercise \\n\"  \"string concatenation is done with '+'sign\\n\" \"for example print('hello+chhavi)\\n\" \"new line can be created using backslash\\n\")"
      ],
      "metadata": {
        "id": "DWNDqgSV1qLV"
      },
      "execution_count": null,
      "outputs": []
    },
    {
      "cell_type": "code",
      "source": [
        "length=len(\"chhavi\")\n",
        "print(len(\"chhavi\"))\n",
        "print(\"your name has\"+\" \"+str(length)+\" \" +\"characters\")\n",
        "new_length=length\n",
        "print(type(new_length))\n",
        "\n",
        "\"\"\"\n",
        "this\n",
        "is\n",
        "what\n",
        "\"\"\""
      ],
      "metadata": {
        "id": "NsSKRBQX3bvI"
      },
      "execution_count": null,
      "outputs": []
    },
    {
      "cell_type": "code",
      "source": [],
      "metadata": {
        "id": "WH2MAzcM3b8l"
      },
      "execution_count": null,
      "outputs": []
    },
    {
      "cell_type": "code",
      "source": [],
      "metadata": {
        "id": "UtAEMXt01qSG"
      },
      "execution_count": null,
      "outputs": []
    },
    {
      "cell_type": "code",
      "source": [
        " #SHORTHAND ASSIGNMENT OPERATOr\n",
        "b=3\n",
        "b+=3\n",
        "print(b)\n",
        "\n",
        "c=4\n",
        "c-=2\n",
        "print(c)\n",
        "\n",
        "d=1\n",
        "d*=2\n",
        "print(d)\n",
        "\n",
        "e=6\n",
        "e/=3\n",
        "print(e)\n",
        "\n",
        "f=7\n",
        "f%=3\n",
        "print(f)\n",
        "\n",
        "h=2\n",
        "h**=3\n",
        "print(h)"
      ],
      "metadata": {
        "colab": {
          "base_uri": "https://localhost:8080/"
        },
        "id": "OB_rU0lS1byf",
        "outputId": "a0b8a2ae-e78c-4ce8-929b-80e5d4e3be01"
      },
      "execution_count": null,
      "outputs": [
        {
          "output_type": "stream",
          "name": "stdout",
          "text": [
            "6\n",
            "2\n",
            "2\n",
            "2.0\n",
            "1\n",
            "8\n"
          ]
        }
      ]
    },
    {
      "cell_type": "code",
      "source": [
        "#COMPARISION OPERATORS\n",
        "x=5\n",
        "print(x==5)\n",
        "print(x!=5)\n",
        "print(x>=5)\n",
        "print(x<5)"
      ],
      "metadata": {
        "colab": {
          "base_uri": "https://localhost:8080/"
        },
        "id": "x4QlDucAAxiH",
        "outputId": "2567e15a-a7cb-4418-b2d9-244037818300"
      },
      "execution_count": null,
      "outputs": [
        {
          "output_type": "stream",
          "name": "stdout",
          "text": [
            "True\n",
            "False\n",
            "True\n",
            "False\n"
          ]
        }
      ]
    },
    {
      "cell_type": "code",
      "source": [
        "# LOGICAL OPERATORS\n",
        "ab=2\n",
        "ba=4\n",
        "print(ab>1 and ba<5)\n",
        "print(ab>1 and ba<3)\n",
        "print(ab>1 or ba<3)\n",
        "print(not ab)\n",
        "\n",
        "abc=0\n",
        "print(not abc)\n"
      ],
      "metadata": {
        "colab": {
          "base_uri": "https://localhost:8080/"
        },
        "id": "V2Xk149kAxqD",
        "outputId": "b1d9d9ec-9283-49da-f989-d3aa1560d4f8"
      },
      "execution_count": null,
      "outputs": [
        {
          "output_type": "stream",
          "name": "stdout",
          "text": [
            "True\n",
            "False\n",
            "True\n",
            "False\n",
            "True\n"
          ]
        }
      ]
    },
    {
      "cell_type": "code",
      "source": [
        "# BITWISE OEPRATORS\n",
        "abc=5\n",
        "acb=4\n",
        "print(abc & acb) #AND\n",
        "print(abc|acb) #OR\n",
        "print(abc^acb) #XOR\n",
        "print(~abc) #negation= put '-' sign and increase the value of the number by one\n",
        "print(~acb)\n",
        "print(abc<<2) #left shift = addition of bits\n",
        "print(abc>>2) #right shift = reduction of bits"
      ],
      "metadata": {
        "colab": {
          "base_uri": "https://localhost:8080/"
        },
        "id": "u25xGTRQAx48",
        "outputId": "c954f4f6-2592-4ddf-ec7a-aa54bb179f02"
      },
      "execution_count": null,
      "outputs": [
        {
          "output_type": "stream",
          "name": "stdout",
          "text": [
            "4\n",
            "5\n",
            "1\n",
            "-6\n",
            "-5\n",
            "20\n",
            "1\n"
          ]
        }
      ]
    },
    {
      "cell_type": "code",
      "source": [
        "# IDENTITY OPERATORS- 'is' and 'is not'\n",
        "xy=6\n",
        "yz=6\n",
        "print(xy is yz)\n",
        "print(id(xy)) #id=address\n",
        "print(id(yz))\n",
        "abcd=5\n",
        "print(id(abcd))\n",
        "abcd=6\n",
        "print(id(abcd))"
      ],
      "metadata": {
        "colab": {
          "base_uri": "https://localhost:8080/"
        },
        "id": "lv0Z8VNRHVXC",
        "outputId": "4f182bfd-f672-4577-e237-b9bcd437d45b"
      },
      "execution_count": null,
      "outputs": [
        {
          "output_type": "stream",
          "name": "stdout",
          "text": [
            "True\n",
            "138724429090672\n",
            "138724429090672\n",
            "138724430037360\n",
            "138724430037392\n"
          ]
        }
      ]
    },
    {
      "cell_type": "code",
      "source": [
        "#MEMBERSHIP OPERATOR-'in' and 'not in'\n",
        "\n",
        "str=\"chhavi\"\n",
        "print('bv'not in str)\n",
        "print('ha'not in str)\n",
        "print('ch' in str)"
      ],
      "metadata": {
        "colab": {
          "base_uri": "https://localhost:8080/"
        },
        "id": "sYeXIflAI2Ds",
        "outputId": "dba0049a-96ff-4d98-ce73-9f666181d706"
      },
      "execution_count": null,
      "outputs": [
        {
          "output_type": "stream",
          "name": "stdout",
          "text": [
            "True\n",
            "False\n",
            "True\n"
          ]
        }
      ]
    },
    {
      "cell_type": "code",
      "source": [
        "round(21.34,1)"
      ],
      "metadata": {
        "colab": {
          "base_uri": "https://localhost:8080/"
        },
        "id": "JE3UOje8K0Zz",
        "outputId": "19cac6e6-393e-47e8-d730-bd8dd1adb8fc"
      },
      "execution_count": null,
      "outputs": [
        {
          "output_type": "execute_result",
          "data": {
            "text/plain": [
              "21.3"
            ]
          },
          "metadata": {},
          "execution_count": 51
        }
      ]
    },
    {
      "cell_type": "code",
      "source": [
        "print(round(4.5))\n",
        "print(round(6.5))\n",
        "print(round(5.5))\n",
        "print(round(6.75,1))\n",
        "print(round(6.85,1))\n",
        "print(round(674.1012,-1))\n",
        "print(round(1212,-2))\n",
        "print(round(500,-3))\n",
        "print(round(501,-3))\n",
        "print(round(674,-3))\n",
        "\n",
        "# nearest even"
      ],
      "metadata": {
        "colab": {
          "base_uri": "https://localhost:8080/"
        },
        "id": "q4sNfITAK_Ep",
        "outputId": "7530199c-3dd9-4487-f0fa-fde03eaf33de"
      },
      "execution_count": null,
      "outputs": [
        {
          "output_type": "stream",
          "name": "stdout",
          "text": [
            "4\n",
            "6\n",
            "6\n",
            "6.8\n",
            "6.8\n",
            "670.0\n",
            "1200\n",
            "0\n",
            "1000\n",
            "1000\n"
          ]
        }
      ]
    },
    {
      "cell_type": "code",
      "source": [
        "# CONDITIONAL STATEMENTS\n",
        "age=int(input(\"age\"))\n",
        "print(\"age is \"+ \" \"+ str(age))\n",
        "\n",
        "if age>18:\n",
        " print(\"adult\")\n",
        " print(\"you can vote\")\n",
        "elif age==18:\n",
        " print(\"you can vote\")\n",
        "else :\n",
        "  print(\"you can't vote\")\n"
      ],
      "metadata": {
        "id": "yUtwnxuwMEaa",
        "colab": {
          "base_uri": "https://localhost:8080/"
        },
        "outputId": "87fb4e5b-71ed-4629-ed3f-93820eecdc92"
      },
      "execution_count": null,
      "outputs": [
        {
          "output_type": "stream",
          "name": "stdout",
          "text": [
            "age18\n",
            "age is  18\n",
            "you can vote\n"
          ]
        }
      ]
    },
    {
      "cell_type": "code",
      "source": [
        "x=int(input(\"enter the number\"))\n",
        "if x==1:\n",
        " print(\"one\")\n"
      ],
      "metadata": {
        "colab": {
          "base_uri": "https://localhost:8080/"
        },
        "id": "i0_fjt8fOVcy",
        "outputId": "73c2546d-9430-4d58-b7f6-41858fa2556a"
      },
      "execution_count": null,
      "outputs": [
        {
          "output_type": "stream",
          "name": "stdout",
          "text": [
            "enter the numbe1\n",
            "one\n"
          ]
        }
      ]
    },
    {
      "cell_type": "code",
      "source": [
        "a = 2\n",
        "b = 330\n",
        "print(\"A\") if a > b else print(\"B\")"
      ],
      "metadata": {
        "colab": {
          "base_uri": "https://localhost:8080/"
        },
        "id": "ypZO9fOpOzhI",
        "outputId": "217d18f4-2775-42b4-a645-6518939f9f42"
      },
      "execution_count": null,
      "outputs": [
        {
          "output_type": "stream",
          "name": "stdout",
          "text": [
            "B\n"
          ]
        }
      ]
    },
    {
      "cell_type": "code",
      "source": [
        "a=3000\n",
        "b=330\n",
        "print(\"A\") if a>b else print(\"B\") if a==b else print(\"D\")\n"
      ],
      "metadata": {
        "colab": {
          "base_uri": "https://localhost:8080/"
        },
        "id": "AINUPH_7O6yT",
        "outputId": "3f6a024d-9b72-418e-aa89-543e0a926f16"
      },
      "execution_count": null,
      "outputs": [
        {
          "output_type": "stream",
          "name": "stdout",
          "text": [
            "A\n"
          ]
        }
      ]
    },
    {
      "cell_type": "code",
      "source": [
        "a=30\n",
        "b=40\n",
        "c=50\n",
        "if b>a and c>b:\n",
        " print(\"both are true \")"
      ],
      "metadata": {
        "colab": {
          "base_uri": "https://localhost:8080/"
        },
        "id": "lDIuAxc9QQCQ",
        "outputId": "e0ea641d-6919-4cd8-eca2-4a1a14c767a3"
      },
      "execution_count": null,
      "outputs": [
        {
          "output_type": "stream",
          "name": "stdout",
          "text": [
            "both are true \n"
          ]
        }
      ]
    },
    {
      "cell_type": "code",
      "source": [
        "a=30\n",
        "b=40\n",
        "c=50\n",
        "if a>b or c>b:\n",
        " print(\"one condition is true \")"
      ],
      "metadata": {
        "colab": {
          "base_uri": "https://localhost:8080/"
        },
        "id": "Y-V2jQnfQWJ2",
        "outputId": "15247ce8-f501-4a7c-8d23-fa37c1eafcb4"
      },
      "execution_count": null,
      "outputs": [
        {
          "output_type": "stream",
          "name": "stdout",
          "text": [
            "one condition is true \n"
          ]
        }
      ]
    },
    {
      "cell_type": "code",
      "source": [
        "a=50\n",
        "b=20\n",
        "if not a>b:\n",
        "  print(\"a is not greater than b\")\n",
        "else:\n",
        "  print(\"a is greater \")"
      ],
      "metadata": {
        "colab": {
          "base_uri": "https://localhost:8080/"
        },
        "id": "UmlKJQEEQfQN",
        "outputId": "209514c2-8d44-41b3-a311-179c65e4da18"
      },
      "execution_count": null,
      "outputs": [
        {
          "output_type": "stream",
          "name": "stdout",
          "text": [
            "a is greater \n"
          ]
        }
      ]
    },
    {
      "cell_type": "code",
      "source": [
        "x=100\n",
        "if x>10 :\n",
        "  print(\"above 10 \")\n",
        "if x<10:\n",
        "  print(\"below 10 \")\n",
        "else:\n",
        " print(\"equal to 10\")\n"
      ],
      "metadata": {
        "colab": {
          "base_uri": "https://localhost:8080/"
        },
        "id": "KJfQSa_qQq8B",
        "outputId": "d143434f-5421-4d20-d8c1-5727097e0805"
      },
      "execution_count": null,
      "outputs": [
        {
          "output_type": "stream",
          "name": "stdout",
          "text": [
            "above 10 \n"
          ]
        }
      ]
    },
    {
      "cell_type": "code",
      "source": [
        "a = 33\n",
        "b = 200\n",
        "\n",
        "if b > a:\n",
        "  pass\n"
      ],
      "metadata": {
        "id": "fqyO8qFLQz95"
      },
      "execution_count": null,
      "outputs": []
    },
    {
      "cell_type": "markdown",
      "source": [
        "# WHILE LOOP\n"
      ],
      "metadata": {
        "id": "0u3q4kPRVnEi"
      }
    },
    {
      "cell_type": "code",
      "source": [
        "\n",
        "i=1\n",
        "while i<6:\n",
        "  print(i)\n",
        "  i+=1\n"
      ],
      "metadata": {
        "colab": {
          "base_uri": "https://localhost:8080/"
        },
        "id": "J0EgM3DF-7mM",
        "outputId": "9834bef2-da8e-40ca-bba1-d96a90e28a35"
      },
      "execution_count": null,
      "outputs": [
        {
          "output_type": "stream",
          "name": "stdout",
          "text": [
            "1\n",
            "2\n",
            "3\n",
            "4\n",
            "5\n"
          ]
        }
      ]
    },
    {
      "cell_type": "code",
      "source": [
        "i=1\n",
        "while i<6:\n",
        "  print(i)\n",
        "  if i==3:\n",
        "    break\n",
        "  i+=1"
      ],
      "metadata": {
        "colab": {
          "base_uri": "https://localhost:8080/"
        },
        "id": "aHthjCCw-73F",
        "outputId": "74f11108-d3a9-4d17-9e03-b1abc75650a0"
      },
      "execution_count": null,
      "outputs": [
        {
          "output_type": "stream",
          "name": "stdout",
          "text": [
            "1\n",
            "2\n",
            "3\n"
          ]
        }
      ]
    },
    {
      "cell_type": "code",
      "source": [
        "i=0\n",
        "while i<6:\n",
        "  i+=1\n",
        "  if i==3:\n",
        "   continue\n",
        "  print(i)"
      ],
      "metadata": {
        "colab": {
          "base_uri": "https://localhost:8080/"
        },
        "id": "pnTQO8ny-8BC",
        "outputId": "579b925e-a690-4aaa-ce16-756ab29b3f0a"
      },
      "execution_count": null,
      "outputs": [
        {
          "output_type": "stream",
          "name": "stdout",
          "text": [
            "1\n",
            "2\n",
            "4\n",
            "5\n",
            "6\n"
          ]
        }
      ]
    },
    {
      "cell_type": "code",
      "source": [
        "i=0\n",
        "while i<6:\n",
        "  print(i)\n",
        "  i+=1\n",
        "else:\n",
        "  print(\"i no longer is less than 6\")\n"
      ],
      "metadata": {
        "colab": {
          "base_uri": "https://localhost:8080/"
        },
        "id": "t3mMNK-W-8Mg",
        "outputId": "979a8db7-9de9-4a37-d6a9-8ecd3a13ef26"
      },
      "execution_count": null,
      "outputs": [
        {
          "output_type": "stream",
          "name": "stdout",
          "text": [
            "0\n",
            "1\n",
            "2\n",
            "3\n",
            "4\n",
            "5\n",
            "i no longer is less than 6\n"
          ]
        }
      ]
    },
    {
      "cell_type": "markdown",
      "source": [
        "# FOR LOOP"
      ],
      "metadata": {
        "id": "eU7qdl4yVr7f"
      }
    },
    {
      "cell_type": "code",
      "source": [
        "list=[1,2,3,4]\n",
        "for x in list:\n",
        "  square=x*x\n",
        "  print(square)\n"
      ],
      "metadata": {
        "colab": {
          "base_uri": "https://localhost:8080/"
        },
        "id": "XEIc3HThVuMl",
        "outputId": "8b5b67bc-3d0d-4872-d428-71e431b5905a"
      },
      "execution_count": null,
      "outputs": [
        {
          "output_type": "stream",
          "name": "stdout",
          "text": [
            "1\n",
            "4\n",
            "9\n",
            "16\n"
          ]
        }
      ]
    },
    {
      "cell_type": "code",
      "source": [
        "l2=[1,2,3,4]\n",
        "l3=[]\n",
        "for x in l2:\n",
        "  sqaure=x*x\n",
        "  l3.append(sqaure)\n",
        "  print(l3)"
      ],
      "metadata": {
        "colab": {
          "base_uri": "https://localhost:8080/"
        },
        "id": "F81LQwZfWe41",
        "outputId": "be325ee6-12e5-424d-81eb-af0489bc15e8"
      },
      "execution_count": null,
      "outputs": [
        {
          "output_type": "stream",
          "name": "stdout",
          "text": [
            "[1]\n",
            "[1, 4]\n",
            "[1, 4, 9]\n",
            "[1, 4, 9, 16]\n"
          ]
        }
      ]
    },
    {
      "cell_type": "markdown",
      "source": [
        "# FOR-ELSE LOOP"
      ],
      "metadata": {
        "id": "3MHEhlwEWfAm"
      }
    },
    {
      "cell_type": "code",
      "source": [
        "num=[1,2,3]\n",
        "for i in num:\n",
        "  print(i)\n",
        "else:\n",
        "  print(\"loop executed\")"
      ],
      "metadata": {
        "colab": {
          "base_uri": "https://localhost:8080/"
        },
        "id": "k_BycjvaWfIY",
        "outputId": "740e5bc4-1f0c-4857-f15d-52c1e1d08419"
      },
      "execution_count": null,
      "outputs": [
        {
          "output_type": "stream",
          "name": "stdout",
          "text": [
            "1\n",
            "2\n",
            "3\n",
            "loop executed\n"
          ]
        }
      ]
    },
    {
      "cell_type": "code",
      "source": [
        "num=[1,2,3,4,5,6]\n",
        "for i in num:\n",
        " print(i)\n",
        "if i==3:\n",
        " break\n",
        "else:\n",
        "  print(\"loop executed\")"
      ],
      "metadata": {
        "colab": {
          "base_uri": "https://localhost:8080/",
          "height": 245
        },
        "id": "F4C_i7C5YU5P",
        "outputId": "a5f6ea19-770c-4193-f3b1-0e5e1225d40d"
      },
      "execution_count": null,
      "outputs": [
        {
          "output_type": "stream",
          "name": "stdout",
          "text": [
            "1\n",
            "2\n",
            "3\n",
            "4\n",
            "5\n",
            "6\n"
          ]
        },
        {
          "output_type": "error",
          "ename": "SyntaxError",
          "evalue": "'break' outside loop (<ipython-input-12-2ab9e70e25ce>, line 5)",
          "traceback": [
            "\u001b[0;36m  File \u001b[0;32m\"<ipython-input-12-2ab9e70e25ce>\"\u001b[0;36m, line \u001b[0;32m5\u001b[0m\n\u001b[0;31m    break\u001b[0m\n\u001b[0m    ^\u001b[0m\n\u001b[0;31mSyntaxError\u001b[0m\u001b[0;31m:\u001b[0m 'break' outside loop\n"
          ]
        }
      ]
    },
    {
      "cell_type": "code",
      "source": [
        "x=input(\"enter list\")\n",
        "\n"
      ],
      "metadata": {
        "colab": {
          "base_uri": "https://localhost:8080/"
        },
        "id": "PLWW5JrhYiCu",
        "outputId": "a094bca1-7155-4c8d-a9ec-c4f536dae49c"
      },
      "execution_count": null,
      "outputs": [
        {
          "output_type": "stream",
          "name": "stdout",
          "text": [
            "enter list 1 2 3 4 5\n",
            "['', '1', '2', '3', '4', '5']\n",
            "[' 1 2 3 4 5']\n"
          ]
        }
      ]
    },
    {
      "cell_type": "markdown",
      "source": [
        "# PRACTICE CODES"
      ],
      "metadata": {
        "id": "rHV8XXSIV6KJ"
      }
    },
    {
      "cell_type": "code",
      "source": [
        "a = 200\n",
        "b = 33\n",
        "\n",
        "if b > a:\n",
        " print(\"b is greater than a\")\n",
        "else:\n",
        " print(\"b is not greater than a\")\n",
        "\n",
        " print(bool(\"Hello\"))\n",
        "print(bool(2))\n",
        "\n",
        "x = \"Hello\"\n",
        "y = 15\n",
        "\n",
        "print(bool(x))\n",
        "print(bool(y))"
      ],
      "metadata": {
        "colab": {
          "base_uri": "https://localhost:8080/"
        },
        "id": "SBZSn8-Y1QOS",
        "outputId": "1f173492-834d-476f-8a62-07323da5e9a4"
      },
      "execution_count": null,
      "outputs": [
        {
          "output_type": "stream",
          "name": "stdout",
          "text": [
            "b is not greater than a\n",
            "True\n",
            "True\n",
            "True\n",
            "True\n"
          ]
        }
      ]
    },
    {
      "cell_type": "code",
      "source": [
        "# find how many weeks, days, months we have left if we live until 90 years input:your current age\n",
        "age=int(input(\"ENTER THE AGE \"))\n",
        "years_left=90-age\n",
        "print(years_left)\n",
        "week_left=years_left*52\n",
        "days_left=years_left*365\n",
        "months_left=years_left*12\n",
        "print(week_left)\n",
        "print(days_left)\n",
        "print(months_left)"
      ],
      "metadata": {
        "colab": {
          "base_uri": "https://localhost:8080/"
        },
        "id": "Z7T-LrS01TkA",
        "outputId": "db097f33-074b-4a26-bb89-329d852a86d7"
      },
      "execution_count": null,
      "outputs": [
        {
          "output_type": "stream",
          "name": "stdout",
          "text": [
            "ENTER THE AGE 85\n",
            "5\n",
            "260\n",
            "1825\n",
            "60\n"
          ]
        }
      ]
    },
    {
      "cell_type": "code",
      "source": [
        "name=\"chhavi\"\n",
        "age=19\n",
        "print(\"my name is \",name, \" my age is \",age)\n",
        "print(f\"my name is {name}.my age is {age}\")\n",
        "print(\"my name is \"+str(name)+\"my age is\"+str(age))"
      ],
      "metadata": {
        "colab": {
          "base_uri": "https://localhost:8080/"
        },
        "id": "EE4TIFeo1WmJ",
        "outputId": "e9f575d3-67c8-4e59-8b59-3ba321bd394a"
      },
      "execution_count": null,
      "outputs": [
        {
          "output_type": "stream",
          "name": "stdout",
          "text": [
            "my name is  chhavi  my age is  19\n",
            "my name is chhavi.my age is 19\n",
            "my name is chhavimy age is19\n"
          ]
        }
      ]
    },
    {
      "cell_type": "code",
      "source": [
        "z= float(input(\"Enter height\"))\n",
        "if z>1.5 :\n",
        " print(\"You can enter the park\")\n",
        "a= int(input(\"Enter age\"))\n",
        "if a<5 :\n",
        "  print(\"You have to pay 100 rupees\")\n",
        "elif a<10 :\n",
        " print(\"You have to pay rupees 250\")\n",
        "else :\n",
        "  print(\"You have to pay rupees 1000\")"
      ],
      "metadata": {
        "colab": {
          "base_uri": "https://localhost:8080/"
        },
        "id": "7UneuODaTVnC",
        "outputId": "ab9b98ef-36b8-436c-9641-b93ccb671473"
      },
      "execution_count": null,
      "outputs": [
        {
          "output_type": "stream",
          "name": "stdout",
          "text": [
            "Enter height2\n",
            "You can enter the park\n",
            "Enter age15\n",
            "You have to pay rupees 1000\n"
          ]
        }
      ]
    },
    {
      "cell_type": "code",
      "source": [
        "num=int(input(\"enter the numebr\"))\n",
        "if num%2==0:\n",
        "  print(\"num is even\")\n",
        "else:\n",
        "    print(\"odd\")"
      ],
      "metadata": {
        "colab": {
          "base_uri": "https://localhost:8080/"
        },
        "id": "3v6iCAJaT0Cl",
        "outputId": "6d954dba-63ef-4263-c5e8-f90a828b6c4b"
      },
      "execution_count": null,
      "outputs": [
        {
          "output_type": "stream",
          "name": "stdout",
          "text": [
            "enter the numebr6\n",
            "num is even\n"
          ]
        }
      ]
    },
    {
      "cell_type": "code",
      "source": [
        "a=int(input(\"enter the number btw 0-30\"))\n",
        "if(a>0 and a<=10):\n",
        " print(\"number btw 0-10\")\n",
        "if(a>10 and a<=20):\n",
        " print(\"number btw 10-20\")\n",
        "elif(a>20 and a<=30):\n",
        " print(\"number btw 20-30\")\n",
        "else:\n",
        "  print(\"you have not entered the right numebr\")"
      ],
      "metadata": {
        "colab": {
          "base_uri": "https://localhost:8080/"
        },
        "id": "m4dCYgPXV5X3",
        "outputId": "9edd1558-7bf5-41d3-dd91-faa8ad3400b8"
      },
      "execution_count": null,
      "outputs": [
        {
          "output_type": "stream",
          "name": "stdout",
          "text": [
            "enter the number btw 0-30 21\n",
            "number btw 20-30\n"
          ]
        }
      ]
    },
    {
      "cell_type": "code",
      "source": [
        "height=float(input(\"enter height\"))\n",
        "weight=int(input(\"enter weight\"))\n",
        "bmi=weight/height**2\n",
        "print(str(bmi))\n",
        "if bmi<18.5:\n",
        "   print(\"underweight\")\n",
        "if bmi<=25:\n",
        "  print(\"okay\")\n",
        "elif bmi<25:\n",
        "  print(\"overweight\")\n",
        "else:\n",
        "  print(\"obese\")"
      ],
      "metadata": {
        "colab": {
          "base_uri": "https://localhost:8080/"
        },
        "id": "ROMJ9J9bWsTF",
        "outputId": "6f3720fc-1e1f-4746-8381-4c6c40b98196"
      },
      "execution_count": null,
      "outputs": [
        {
          "output_type": "stream",
          "name": "stdout",
          "text": [
            "enter height1\n",
            "enter weight100\n",
            "100.0\n",
            "obese\n"
          ]
        }
      ]
    },
    {
      "cell_type": "code",
      "source": [
        "year=int(input(\"enter the year\"))\n",
        "if year % 4==0:\n",
        " if year % 100==0:\n",
        "  if year % 400==0:\n",
        "    print(\"leap year\")\n",
        "  else:\n",
        "   print(\"not a leap year\")\n",
        " else:\n",
        "    print(\"leap year\")\n",
        "else:\n",
        "  print(\"not a leap  year \")\n"
      ],
      "metadata": {
        "colab": {
          "base_uri": "https://localhost:8080/"
        },
        "id": "N7ooJzkzabAR",
        "outputId": "f72ec9db-080a-41d9-c38e-f8ddd967cebb"
      },
      "execution_count": null,
      "outputs": [
        {
          "output_type": "stream",
          "name": "stdout",
          "text": [
            "enter the year2024\n",
            "leap year\n"
          ]
        }
      ]
    },
    {
      "cell_type": "code",
      "source": [
        "a = 330\n",
        "b = 200\n",
        "if not a > b:\n",
        "  print(\"a is NOT greater than b\")\n",
        "else:\n",
        "  print(\"a is greater\")\n"
      ],
      "metadata": {
        "id": "PwEiBit_a0xX",
        "colab": {
          "base_uri": "https://localhost:8080/"
        },
        "outputId": "d6ca46b9-9ab1-4e4d-edec-995892c5d696"
      },
      "execution_count": null,
      "outputs": [
        {
          "output_type": "stream",
          "name": "stdout",
          "text": [
            "a is greater\n"
          ]
        }
      ]
    },
    {
      "cell_type": "code",
      "source": [
        "age=int(input(\"age\"))\n",
        "print(age)\n",
        "if(age<12):\n",
        " print(\"you can enter\")\n",
        "if(age>12):\n",
        " print(\"you cannot enter\")\n",
        "if(age>=12):\n",
        " print(\"you can enter but pay 50-/\")"
      ],
      "metadata": {
        "colab": {
          "base_uri": "https://localhost:8080/"
        },
        "id": "BgJwNex8H6sw",
        "outputId": "d668c910-f0e2-46da-b14b-9cf0cf5427f2"
      },
      "execution_count": null,
      "outputs": [
        {
          "output_type": "stream",
          "name": "stdout",
          "text": [
            "age 14\n",
            "14\n",
            "you cannot enter\n",
            "you can enter but pay 50-/\n"
          ]
        }
      ]
    },
    {
      "cell_type": "code",
      "source": [
        "age=int(input(\"age\"))\n",
        "print(age)\n",
        "if(age<12):\n",
        " print(\"you can enter\")\n",
        "elif(age>=12):\n",
        " print(\"you cannot enter\")\n",
        "else:\n",
        " print(\"you can enter but pay 50-/\")"
      ],
      "metadata": {
        "colab": {
          "base_uri": "https://localhost:8080/"
        },
        "id": "PeQyvD3vIj8m",
        "outputId": "41f8d2d5-db12-4aa1-9d87-2c693b27d0be"
      },
      "execution_count": null,
      "outputs": [
        {
          "output_type": "stream",
          "name": "stdout",
          "text": [
            "age14\n",
            "14\n",
            "you cannot enter\n"
          ]
        }
      ]
    },
    {
      "cell_type": "code",
      "source": [
        "height=int(input(\"height of person \"))\n",
        "int(bill)==0\n",
        "if height>=3:\n",
        "  print(\"you can ride\")\n",
        "  age=int(input(\"enter the age of person\"))\n",
        "  if age<12:\n",
        "    bill=150\n",
        "    print(\"pay 150\")\n",
        "  elif age>12:\n",
        "    bill=250\n",
        "    print(\"pay 250\")\n",
        "  else :\n",
        "    bill=200\n",
        "    print(\"pay 200\")\n",
        "\n",
        "w_photo=input(\"do you want photo y/n\")\n",
        "if w_photo=='y'or w_photo=='Y':\n",
        "    bill=bill+50\n",
        "    print(\"total is \"+str(int(bill)))\n",
        "\n",
        "else:\n",
        "  print(\"cant ride\")"
      ],
      "metadata": {
        "colab": {
          "base_uri": "https://localhost:8080/"
        },
        "id": "9S8t0O3VMpVv",
        "outputId": "31c00822-a8d8-45e1-b844-b40b94c22f8f"
      },
      "execution_count": null,
      "outputs": [
        {
          "output_type": "stream",
          "name": "stdout",
          "text": [
            "height of person 4\n",
            "you can ride\n",
            "enter the age of person14\n",
            "pay 250\n",
            "do you want photo y/n y\n",
            "cant ride\n"
          ]
        }
      ]
    },
    {
      "cell_type": "code",
      "source": [
        "size=input(\"enter the size of pizza you want (S/M/L) \")\n",
        "print(size)\n",
        "bill=0\n",
        "if size=='S'or size=='s':\n",
        "  bill=+100\n",
        "  print(\"small pizza for 100\")\n",
        "elif size=='M'or size=='m':\n",
        "  bill+=200\n",
        "  print(\"medium pizza for 200\")\n",
        "else:\n",
        "  bill+=300\n",
        "  print(\"large pizza for 300\")\n",
        "\n",
        "\n",
        "\n",
        "pep=input(\"do you want pepronni on pizza (y/n)\")\n",
        "if pep=='y'or pep=='Y':\n",
        "  if size=='S'or size=='s':\n",
        "   bill +=30\n",
        "  else:\n",
        "    bill +=50\n",
        "\n",
        "cheese=input(\"do you want cheese (y/n)\")\n",
        "if cheese=='y' or cheese=='Y':\n",
        "  bill +=20\n",
        "\n",
        "\n",
        "print(\"your bill is \",bill)"
      ],
      "metadata": {
        "colab": {
          "base_uri": "https://localhost:8080/"
        },
        "id": "TJ-Y4c_dD31f",
        "outputId": "1b8ce9e4-1062-4a79-c891-b8349e6fcf21"
      },
      "execution_count": null,
      "outputs": [
        {
          "output_type": "stream",
          "name": "stdout",
          "text": [
            "enter the size of pizza you want (S/M/L) m\n",
            "m\n",
            "medium pizza for 200\n",
            "do you want pepronni on pizza (y/n)y\n",
            "do you want cheese (y/n)y\n",
            "your bill is  270\n"
          ]
        }
      ]
    },
    {
      "cell_type": "code",
      "source": [
        "name1=input(\"enter your name \")\n",
        "name2=input(\"enter his name \")\n",
        "name=str(name1)+str(name2)\n",
        "print(name)\n",
        "t=name.count('t')\n",
        "r=name.count('r')\n",
        "u=name.count('u')\n",
        "e=name.count('e')\n",
        "true=t+r+u+e\n",
        "print(true)\n",
        "l=name.count('l')\n",
        "o=name.count('o')\n",
        "v=name.count('v')\n",
        "e=name.count('e')\n",
        "love=l+o+v+e\n",
        "print(love)\n",
        "love_score=str(true)+str(love)\n",
        "print(love_score)"
      ],
      "metadata": {
        "id": "_3h8z0bmT3Is",
        "colab": {
          "base_uri": "https://localhost:8080/"
        },
        "outputId": "93600e04-f537-4c6e-c926-d928e674a4ab"
      },
      "execution_count": null,
      "outputs": [
        {
          "output_type": "stream",
          "name": "stdout",
          "text": [
            "enter your name aena siddhu \n",
            "enter his name harjeet chaudhary \n",
            "aena siddhu harjeet chaudhary \n",
            "8\n",
            "3\n",
            "83\n"
          ]
        }
      ]
    }
  ]
}