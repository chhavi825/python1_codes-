{
  "nbformat": 4,
  "nbformat_minor": 0,
  "metadata": {
    "colab": {
      "provenance": []
    },
    "kernelspec": {
      "name": "python3",
      "display_name": "Python 3"
    },
    "language_info": {
      "name": "python"
    }
  },
  "cells": [
    {
      "cell_type": "code",
      "execution_count": null,
      "metadata": {
        "colab": {
          "base_uri": "https://localhost:8080/"
        },
        "id": "PyWmjBGkFLKv",
        "outputId": "8c9f7aaa-4169-484e-98ed-dbd7e7e118fa"
      },
      "outputs": [
        {
          "output_type": "stream",
          "name": "stdout",
          "text": [
            "enter the list1 2 3 4 5\n",
            "['1 2 3 4 5']\n",
            "1\n",
            " \n",
            "2\n",
            " \n",
            "3\n",
            " \n",
            "4\n",
            " \n",
            "5\n"
          ]
        }
      ],
      "source": [
        "# find max no in list using split and range fxn\n",
        "list=input(\"enter the list\")\n",
        "print([list])\n",
        "for x in list:\n",
        " print(x)\n",
        " list.split(\" \")\n",
        "x=\n"
      ]
    },
    {
      "cell_type": "code",
      "source": [
        "num=input(\"enter the numbers seprated by space\")\n",
        "list1=num.split(\" \")\n",
        "print(list1)\n",
        "count=0\n",
        "for i in list1:\n",
        "  count+=1\n",
        "print(count)\n",
        "for i in range(count):\n",
        "  list[i]=int(list1[i])\n",
        "print(list1)\n",
        "max=list1[0]\n",
        "for i in list1:\n",
        "  if i>max:\n",
        "    max=1\n",
        "\n",
        "print(f\"the maximum number is (max)\")"
      ],
      "metadata": {
        "colab": {
          "base_uri": "https://localhost:8080/",
          "height": 297
        },
        "id": "_2YldVPfIKt-",
        "outputId": "5ab6c43f-b56e-4018-98d8-99b2f265decc"
      },
      "execution_count": null,
      "outputs": [
        {
          "output_type": "stream",
          "name": "stdout",
          "text": [
            "enter the numbers seprated by space1 2 3 4 5 \n",
            "['1', '2', '3', '4', '5', '']\n",
            "6\n"
          ]
        },
        {
          "output_type": "error",
          "ename": "TypeError",
          "evalue": "'str' object does not support item assignment",
          "traceback": [
            "\u001b[0;31m---------------------------------------------------------------------------\u001b[0m",
            "\u001b[0;31mTypeError\u001b[0m                                 Traceback (most recent call last)",
            "\u001b[0;32m<ipython-input-2-1a124661a8f2>\u001b[0m in \u001b[0;36m<cell line: 8>\u001b[0;34m()\u001b[0m\n\u001b[1;32m      7\u001b[0m \u001b[0mprint\u001b[0m\u001b[0;34m(\u001b[0m\u001b[0mcount\u001b[0m\u001b[0;34m)\u001b[0m\u001b[0;34m\u001b[0m\u001b[0;34m\u001b[0m\u001b[0m\n\u001b[1;32m      8\u001b[0m \u001b[0;32mfor\u001b[0m \u001b[0mi\u001b[0m \u001b[0;32min\u001b[0m \u001b[0mrange\u001b[0m\u001b[0;34m(\u001b[0m\u001b[0mcount\u001b[0m\u001b[0;34m)\u001b[0m\u001b[0;34m:\u001b[0m\u001b[0;34m\u001b[0m\u001b[0;34m\u001b[0m\u001b[0m\n\u001b[0;32m----> 9\u001b[0;31m   \u001b[0mlist\u001b[0m\u001b[0;34m[\u001b[0m\u001b[0mi\u001b[0m\u001b[0;34m]\u001b[0m\u001b[0;34m=\u001b[0m\u001b[0mint\u001b[0m\u001b[0;34m(\u001b[0m\u001b[0mlist1\u001b[0m\u001b[0;34m[\u001b[0m\u001b[0mi\u001b[0m\u001b[0;34m]\u001b[0m\u001b[0;34m)\u001b[0m\u001b[0;34m\u001b[0m\u001b[0;34m\u001b[0m\u001b[0m\n\u001b[0m\u001b[1;32m     10\u001b[0m \u001b[0mprint\u001b[0m\u001b[0;34m(\u001b[0m\u001b[0mlist1\u001b[0m\u001b[0;34m)\u001b[0m\u001b[0;34m\u001b[0m\u001b[0;34m\u001b[0m\u001b[0m\n\u001b[1;32m     11\u001b[0m \u001b[0mmax\u001b[0m\u001b[0;34m=\u001b[0m\u001b[0mlist1\u001b[0m\u001b[0;34m[\u001b[0m\u001b[0;36m0\u001b[0m\u001b[0;34m]\u001b[0m\u001b[0;34m\u001b[0m\u001b[0;34m\u001b[0m\u001b[0m\n",
            "\u001b[0;31mTypeError\u001b[0m: 'str' object does not support item assignment"
          ]
        }
      ]
    },
    {
      "cell_type": "code",
      "source": [
        "a= range(2,5)\n",
        "print(a[2])"
      ],
      "metadata": {
        "colab": {
          "base_uri": "https://localhost:8080/"
        },
        "id": "q5-rc3KSKgHG",
        "outputId": "4ceb28fb-55e2-469c-db74-d448ac43f695"
      },
      "execution_count": null,
      "outputs": [
        {
          "output_type": "stream",
          "name": "stdout",
          "text": [
            "4\n"
          ]
        }
      ]
    },
    {
      "cell_type": "code",
      "source": [
        "b=range(2,15,2)\n",
        "for i in b:\n",
        "  print(i)\n"
      ],
      "metadata": {
        "colab": {
          "base_uri": "https://localhost:8080/"
        },
        "id": "ghZg5wtdKrsM",
        "outputId": "13be67b7-2d12-4cc2-e2d6-b6ca1f92ae2c"
      },
      "execution_count": null,
      "outputs": [
        {
          "output_type": "stream",
          "name": "stdout",
          "text": [
            "2\n",
            "4\n",
            "6\n",
            "8\n",
            "10\n",
            "12\n",
            "14\n"
          ]
        }
      ]
    },
    {
      "cell_type": "code",
      "source": [
        "c=range(2,15,-3)\n",
        "for i in c:\n",
        " print(i)"
      ],
      "metadata": {
        "id": "CEZHNRt-Kyzu"
      },
      "execution_count": null,
      "outputs": []
    },
    {
      "cell_type": "code",
      "source": [
        "for i in range(10,-1,-1):\n",
        "  print(i)"
      ],
      "metadata": {
        "colab": {
          "base_uri": "https://localhost:8080/"
        },
        "id": "dboFeTHnLqXe",
        "outputId": "bb92497b-c417-4019-bf03-141a2a667198"
      },
      "execution_count": null,
      "outputs": [
        {
          "output_type": "stream",
          "name": "stdout",
          "text": [
            "10\n",
            "9\n",
            "8\n",
            "7\n",
            "6\n",
            "5\n",
            "4\n",
            "3\n",
            "2\n",
            "1\n",
            "0\n"
          ]
        }
      ]
    },
    {
      "cell_type": "code",
      "source": [
        "sum=0\n",
        "for i in range(0,101,1):\n",
        "  sum=sum+i\n",
        "print(sum)"
      ],
      "metadata": {
        "colab": {
          "base_uri": "https://localhost:8080/"
        },
        "id": "CMl_tdZ8MDHM",
        "outputId": "b69ab0e2-3cff-497d-dc29-251904c940a4"
      },
      "execution_count": null,
      "outputs": [
        {
          "output_type": "stream",
          "name": "stdout",
          "text": [
            "5050\n"
          ]
        }
      ]
    },
    {
      "cell_type": "code",
      "source": [
        "sum=0\n",
        "for i in range(0,101,2):\n",
        "  sum=sum+i\n",
        "print(sum)"
      ],
      "metadata": {
        "colab": {
          "base_uri": "https://localhost:8080/"
        },
        "id": "JC83HPDXMTZZ",
        "outputId": "071c03b4-708d-4cca-bf37-e715223737a8"
      },
      "execution_count": null,
      "outputs": [
        {
          "output_type": "stream",
          "name": "stdout",
          "text": [
            "2550\n"
          ]
        }
      ]
    },
    {
      "cell_type": "code",
      "source": [
        "#fizz buzz program\n",
        "for i in range(1, 101):\n",
        "    if i % 3 == 0 and i % 5 == 0:\n",
        "        print(i, \"FizzBuzz\")\n",
        "    elif i % 3 == 0:\n",
        "        print(i, \"Fizz\")\n",
        "    elif i % 5 == 0:\n",
        "        print(i, \"Buzz\")"
      ],
      "metadata": {
        "colab": {
          "base_uri": "https://localhost:8080/"
        },
        "id": "YjRkYaqxMrAs",
        "outputId": "62a59918-da51-42fa-cc10-3ed23c039955"
      },
      "execution_count": null,
      "outputs": [
        {
          "output_type": "stream",
          "name": "stdout",
          "text": [
            "3 Fizz\n",
            "5 Buzz\n",
            "6 Fizz\n",
            "9 Fizz\n",
            "10 Buzz\n",
            "12 Fizz\n",
            "15 FizzBuzz\n",
            "18 Fizz\n",
            "20 Buzz\n",
            "21 Fizz\n",
            "24 Fizz\n",
            "25 Buzz\n",
            "27 Fizz\n",
            "30 FizzBuzz\n",
            "33 Fizz\n",
            "35 Buzz\n",
            "36 Fizz\n",
            "39 Fizz\n",
            "40 Buzz\n",
            "42 Fizz\n",
            "45 FizzBuzz\n",
            "48 Fizz\n",
            "50 Buzz\n",
            "51 Fizz\n",
            "54 Fizz\n",
            "55 Buzz\n",
            "57 Fizz\n",
            "60 FizzBuzz\n",
            "63 Fizz\n",
            "65 Buzz\n",
            "66 Fizz\n",
            "69 Fizz\n",
            "70 Buzz\n",
            "72 Fizz\n",
            "75 FizzBuzz\n",
            "78 Fizz\n",
            "80 Buzz\n",
            "81 Fizz\n",
            "84 Fizz\n",
            "85 Buzz\n",
            "87 Fizz\n",
            "90 FizzBuzz\n",
            "93 Fizz\n",
            "95 Buzz\n",
            "96 Fizz\n",
            "99 Fizz\n",
            "100 Buzz\n"
          ]
        }
      ]
    },
    {
      "cell_type": "code",
      "source": [
        "#password generator\n",
        "import random\n",
        "x = int(input(\"how many letters u want\"))\n",
        "list = [\"A\" , \"B\",\"C\",\"D\",\"E\",\"F\",\"G\",\"H\",\"I\",\"J\",\"K\",\"L\",\"M\",\"N\",\"O\",\"P\",\"Q\",\"R\",\"S\",\"T\",\"U\",\"V\",\"W\",\"X\",\"Y\",\"Z\"]\n",
        "for n in range(x):\n",
        "    n = random.choice(list)\n",
        "    print(n)\n",
        "\n",
        "y= int(input(\"how many numbers uu want\"))\n",
        "for m in range(y):\n",
        "    m = random.randint(0,9)\n",
        "    print(m)\n",
        "\n",
        "z = int(input(\"how many symbols u want\"))\n",
        "list1 = [\"#\" , \"$\"]\n",
        "for w in range(z):\n",
        "    w = random.choice(list1)\n",
        "    print(w)"
      ],
      "metadata": {
        "colab": {
          "base_uri": "https://localhost:8080/"
        },
        "id": "UddszPJBOoas",
        "outputId": "63061866-ca4a-4739-df69-6466dd590d0d"
      },
      "execution_count": null,
      "outputs": [
        {
          "output_type": "stream",
          "name": "stdout",
          "text": [
            "how many letters u want2\n",
            "C\n",
            "P\n",
            "how many numbers uu want2\n",
            "7\n",
            "2\n",
            "how many symbols u want2\n",
            "#\n",
            "#\n"
          ]
        }
      ]
    },
    {
      "cell_type": "code",
      "source": [
        "count=1\n",
        "while count<=5:\n",
        "  print(count)\n",
        "  count=count+1\n",
        "print(\"out of loop\")"
      ],
      "metadata": {
        "colab": {
          "base_uri": "https://localhost:8080/"
        },
        "id": "E7cJ2z1q2FDf",
        "outputId": "7b01cf42-31f3-4440-8701-c0db331958f3"
      },
      "execution_count": null,
      "outputs": [
        {
          "output_type": "stream",
          "name": "stdout",
          "text": [
            "1\n",
            "2\n",
            "3\n",
            "4\n",
            "5\n",
            "out of loop\n"
          ]
        }
      ]
    },
    {
      "cell_type": "code",
      "source": [
        "count=5\n",
        "while count>0:\n",
        "  print(count)\n",
        "  count=count-1\n",
        "print(\"out of loop\")"
      ],
      "metadata": {
        "colab": {
          "base_uri": "https://localhost:8080/"
        },
        "id": "6xie2sFV3MtH",
        "outputId": "229b04cd-d8ae-4e41-a1aa-092b69f050fc"
      },
      "execution_count": null,
      "outputs": [
        {
          "output_type": "stream",
          "name": "stdout",
          "text": [
            "5\n",
            "4\n",
            "3\n",
            "2\n",
            "1\n",
            "out of loop\n"
          ]
        }
      ]
    },
    {
      "cell_type": "code",
      "source": [
        "count=5\n",
        "while count>0: print(count); count=count-1\n",
        "print(\"out of loop\")"
      ],
      "metadata": {
        "colab": {
          "base_uri": "https://localhost:8080/"
        },
        "id": "4yf55vTa3YbR",
        "outputId": "46becd49-8fd0-4568-e720-699aa5a59c22"
      },
      "execution_count": null,
      "outputs": [
        {
          "output_type": "stream",
          "name": "stdout",
          "text": [
            "5\n",
            "4\n",
            "3\n",
            "2\n",
            "1\n",
            "out of loop\n"
          ]
        }
      ]
    },
    {
      "cell_type": "code",
      "source": [
        "count=5\n",
        "while count>0:\n",
        "  print(count)\n",
        "  count=count-1\n",
        "  if count==3:\n",
        "    break\n",
        "else:\n",
        "    print(\"else block\")\n",
        "print(\"out of loop\")"
      ],
      "metadata": {
        "colab": {
          "base_uri": "https://localhost:8080/"
        },
        "id": "LDFu9Vfh3vFz",
        "outputId": "c14b79ae-1e4e-4d97-b099-0302413430b8"
      },
      "execution_count": null,
      "outputs": [
        {
          "output_type": "stream",
          "name": "stdout",
          "text": [
            "5\n",
            "4\n",
            "out of loop\n"
          ]
        }
      ]
    },
    {
      "cell_type": "code",
      "source": [
        "list=[\"hi\",\"hello\",\"welcome\"]\n",
        "name=[\"chhavi\",\"divyam\",\"addy\"]\n",
        "for item in list:\n",
        "  for i in name:\n",
        "    print(item,i)\n",
        "    if item==\"hello\" and i==\"divyam\":\n",
        "     break\n",
        "  print(\"out from inner loop\")\n",
        "print(\"out from inner loop\")"
      ],
      "metadata": {
        "colab": {
          "base_uri": "https://localhost:8080/"
        },
        "id": "NpOj4lSR3_Up",
        "outputId": "54c097a6-828c-40c0-ac10-c0c1a7e5d350"
      },
      "execution_count": null,
      "outputs": [
        {
          "output_type": "stream",
          "name": "stdout",
          "text": [
            "hi chhavi\n",
            "hi divyam\n",
            "hi addy\n",
            "out from inner loop\n",
            "hello chhavi\n",
            "hello divyam\n",
            "out from inner loop\n",
            "welcome chhavi\n",
            "welcome divyam\n",
            "welcome addy\n",
            "out from inner loop\n",
            "out from inner loop\n"
          ]
        }
      ]
    },
    {
      "cell_type": "code",
      "source": [
        "count1=0\n",
        "while count1<10:\n",
        "  print(count1)\n",
        "  count1+=1\n",
        "  if count1==7:\n",
        "    continue\n",
        "  print(\"hi\")\n",
        "print(\"done\")"
      ],
      "metadata": {
        "colab": {
          "base_uri": "https://localhost:8080/"
        },
        "id": "ym5ZO3WW6kVd",
        "outputId": "11bb7acb-31c8-4885-dacd-dd486de667d9"
      },
      "execution_count": null,
      "outputs": [
        {
          "output_type": "stream",
          "name": "stdout",
          "text": [
            "0\n",
            "hi\n",
            "1\n",
            "hi\n",
            "2\n",
            "hi\n",
            "3\n",
            "hi\n",
            "4\n",
            "hi\n",
            "5\n",
            "hi\n",
            "6\n",
            "7\n",
            "hi\n",
            "8\n",
            "hi\n",
            "9\n",
            "hi\n",
            "done\n"
          ]
        }
      ]
    },
    {
      "cell_type": "code",
      "source": [
        "count1=0\n",
        "while count1<10:\n",
        "  print(count1)\n",
        "  count1+=1\n",
        "  if count1==7:\n",
        "    pass\n",
        "  print(\"hi\")\n",
        "print(\"done\")"
      ],
      "metadata": {
        "colab": {
          "base_uri": "https://localhost:8080/"
        },
        "id": "maKnZbV27lxV",
        "outputId": "ad04fe5c-2830-46a4-912e-91c8f8f9da17"
      },
      "execution_count": null,
      "outputs": [
        {
          "output_type": "stream",
          "name": "stdout",
          "text": [
            "0\n",
            "hi\n",
            "1\n",
            "hi\n",
            "2\n",
            "hi\n",
            "3\n",
            "hi\n",
            "4\n",
            "hi\n",
            "5\n",
            "hi\n",
            "6\n",
            "hi\n",
            "7\n",
            "hi\n",
            "8\n",
            "hi\n",
            "9\n",
            "hi\n",
            "done\n"
          ]
        }
      ]
    },
    {
      "cell_type": "code",
      "source": [
        "for i in range(5):\n",
        " pass"
      ],
      "metadata": {
        "id": "m703guhd8QVj"
      },
      "execution_count": null,
      "outputs": []
    },
    {
      "cell_type": "markdown",
      "source": [
        "for letter in \"hello\":\n",
        " print(\"pass: \",letter)\n",
        "print(\"done\")`"
      ],
      "metadata": {
        "id": "H6--ksaa8ezN"
      }
    },
    {
      "cell_type": "code",
      "source": [
        "total=0\n",
        "number=int(input(\"enter the number (0 to quit)\"))\n",
        "while number !=0:\n",
        "  total=total+number\n",
        "  number=int(input(\"enter the number(0 to quit)\"))\n",
        "print(total)"
      ],
      "metadata": {
        "colab": {
          "base_uri": "https://localhost:8080/"
        },
        "id": "tKPB2p9q8mNt",
        "outputId": "7ffd1b22-cfcd-4aaf-a41f-c10cb23b3052"
      },
      "execution_count": null,
      "outputs": [
        {
          "output_type": "stream",
          "name": "stdout",
          "text": [
            "enter the number (0 to quit)1\n",
            "enter the number(0 to quit)1\n",
            "enter the number(0 to quit)1\n",
            "enter the number(0 to quit)1\n",
            "enter the number(0 to quit)1\n",
            "enter the number(0 to quit)0\n",
            "5\n"
          ]
        }
      ]
    },
    {
      "cell_type": "code",
      "source": [
        "count=0\n",
        "while True:\n",
        "  print(count)\n",
        "  count+=1\n",
        "  if count==5:\n",
        "   break\n",
        "else:\n",
        "  print(\"in else block\")\n",
        "print(\"out of loopp\")\n"
      ],
      "metadata": {
        "colab": {
          "base_uri": "https://localhost:8080/"
        },
        "id": "f_zO5AiH-3O_",
        "outputId": "a2b1b3a2-92e6-4ab9-c6de-73a64805fce4"
      },
      "execution_count": null,
      "outputs": [
        {
          "output_type": "stream",
          "name": "stdout",
          "text": [
            "0\n",
            "1\n",
            "2\n",
            "3\n",
            "4\n",
            "out of loopp\n"
          ]
        }
      ]
    },
    {
      "cell_type": "code",
      "source": [
        "import random\n",
        "list=[\"apple\",\"banana\",\"orange\",\"mango\"]\n",
        "chosen_word=random.choice(list)\n",
        "lives=6\n",
        "print(chosen_word)\n",
        "display=[]\n",
        "for letters in chosen_word:\n",
        "  display+='_'\n",
        "print(display)"
      ],
      "metadata": {
        "colab": {
          "base_uri": "https://localhost:8080/"
        },
        "id": "qDHJ-fxL_Wbx",
        "outputId": "9b8c9a90-5a8d-44b8-9cc1-2bf2935bf81b"
      },
      "execution_count": null,
      "outputs": [
        {
          "output_type": "stream",
          "name": "stdout",
          "text": [
            "mango\n",
            "['_', '_', '_', '_', '_']\n"
          ]
        }
      ]
    },
    {
      "cell_type": "markdown",
      "source": [
        "#FUNCTIONS"
      ],
      "metadata": {
        "id": "d7wUCUmG_bvo"
      }
    },
    {
      "cell_type": "code",
      "source": [
        "def greet():\n",
        " print(\"hi\")\n",
        " print(\"python\")\n",
        "greet()\n",
        "greet()\n",
        "greet()"
      ],
      "metadata": {
        "colab": {
          "base_uri": "https://localhost:8080/"
        },
        "id": "tIuFYsjLHq6q",
        "outputId": "87f99b3c-0aa9-48a9-b3ef-2ce5efcca8c9"
      },
      "execution_count": null,
      "outputs": [
        {
          "output_type": "stream",
          "name": "stdout",
          "text": [
            "hi\n",
            "python\n",
            "hi\n",
            "python\n",
            "hi\n",
            "python\n"
          ]
        }
      ]
    },
    {
      "cell_type": "code",
      "source": [
        "def python():\n",
        "\n",
        "  print(\"we started puthon\")\n",
        "  print(\"this is first lecture\")\n",
        "python()\n",
        "\n",
        "for i in range(5):\n",
        "    python()\n",
        "\n",
        "\n"
      ],
      "metadata": {
        "colab": {
          "base_uri": "https://localhost:8080/"
        },
        "id": "-1b4Q_snN7du",
        "outputId": "5db435af-1c6f-43d6-c196-d49239dab1a7"
      },
      "execution_count": null,
      "outputs": [
        {
          "output_type": "stream",
          "name": "stdout",
          "text": [
            "we started puthon\n",
            "this is first lecture\n",
            "we started puthon\n",
            "this is first lecture\n",
            "we started puthon\n",
            "this is first lecture\n",
            "we started puthon\n",
            "this is first lecture\n",
            "we started puthon\n",
            "this is first lecture\n",
            "we started puthon\n",
            "this is first lecture\n"
          ]
        }
      ]
    },
    {
      "cell_type": "code",
      "source": [
        "def add(x,y):\n",
        "  add=x+y\n",
        "  print(f\"sum is {add}\")\n",
        "add(10,3)"
      ],
      "metadata": {
        "colab": {
          "base_uri": "https://localhost:8080/"
        },
        "id": "MFTDvLp1M0Ni",
        "outputId": "3ff60e3f-4127-4179-aca2-aa6e5812aa60"
      },
      "execution_count": null,
      "outputs": [
        {
          "output_type": "stream",
          "name": "stdout",
          "text": [
            "sum is 13\n"
          ]
        }
      ]
    },
    {
      "cell_type": "code",
      "source": [
        "# positional arguments\n",
        "def UPES(name,dept):\n",
        "  print(f\"are you {name}\")\n",
        "  print(f\"are you from {dept}\")\n"
      ],
      "metadata": {
        "id": "n_j_xbbEM1H-"
      },
      "execution_count": null,
      "outputs": []
    },
    {
      "cell_type": "code",
      "source": [
        "# keyword arguments\n",
        "def UPES(name,dept):\n",
        "  print(f\"are you {name}\")\n",
        "  print(f\"are you from {dept}\")\n",
        "UPES(dept=\"SoCS\", name=\"chhavi\")"
      ],
      "metadata": {
        "colab": {
          "base_uri": "https://localhost:8080/"
        },
        "id": "RvV-jayfM1kW",
        "outputId": "0ffc05c7-d31b-4303-dc14-2ba7489de7e4"
      },
      "execution_count": null,
      "outputs": [
        {
          "output_type": "stream",
          "name": "stdout",
          "text": [
            "are you chhavi\n",
            "are you from SoCS\n"
          ]
        }
      ]
    },
    {
      "cell_type": "code",
      "source": [
        "# mixture of arguments\n",
        "UPES(\"chhavi\", dept=\"socs\")\n"
      ],
      "metadata": {
        "colab": {
          "base_uri": "https://localhost:8080/"
        },
        "id": "IxfweXtCM1tV",
        "outputId": "65e38b86-f258-4eca-9640-3cbbd8e83d01"
      },
      "execution_count": null,
      "outputs": [
        {
          "output_type": "stream",
          "name": "stdout",
          "text": [
            "are you chhavi\n",
            "are you from socs\n"
          ]
        }
      ]
    },
    {
      "cell_type": "code",
      "source": [
        "UPES(dept=\"socs\",\"chhavi\")"
      ],
      "metadata": {
        "colab": {
          "base_uri": "https://localhost:8080/",
          "height": 106
        },
        "id": "eRGrMjx6OC2g",
        "outputId": "722ae862-c9fb-44d3-e511-95aa19cff19a"
      },
      "execution_count": null,
      "outputs": [
        {
          "output_type": "error",
          "ename": "SyntaxError",
          "evalue": "positional argument follows keyword argument (<ipython-input-11-2bab812ed21d>, line 1)",
          "traceback": [
            "\u001b[0;36m  File \u001b[0;32m\"<ipython-input-11-2bab812ed21d>\"\u001b[0;36m, line \u001b[0;32m1\u001b[0m\n\u001b[0;31m    UPES(dept=\"socs\",\"chhavi\")\u001b[0m\n\u001b[0m                             ^\u001b[0m\n\u001b[0;31mSyntaxError\u001b[0m\u001b[0;31m:\u001b[0m positional argument follows keyword argument\n"
          ]
        }
      ]
    },
    {
      "cell_type": "code",
      "source": [
        "#default arguments\n",
        "def upes1(name,student,dept=\"socs\"):\n",
        "  print(f\"hi {name}\")\n",
        "  print(f\"i am {student}\")\n",
        "  print(f\"are you from {dept}\")\n",
        "upes1(\"chhavi\",\"ravi\",dept=\"socs\")\n",
        "#upes1(\"chhavi\",\"ravi\")"
      ],
      "metadata": {
        "colab": {
          "base_uri": "https://localhost:8080/"
        },
        "id": "sqWzkVDlOC-m",
        "outputId": "b616e672-7884-42b7-d621-130c84e64104"
      },
      "execution_count": null,
      "outputs": [
        {
          "output_type": "stream",
          "name": "stdout",
          "text": [
            "hi chhavi\n",
            "i am ravi\n",
            "are you from socs\n"
          ]
        }
      ]
    },
    {
      "cell_type": "code",
      "source": [
        "def add1(*numbers):\n",
        "  c=0\n",
        "  for i in numbers:\n",
        "    c=c+1\n",
        "\n",
        "  print(f\"addition is {c}\")\n",
        "add1(23,45,67,34,67)"
      ],
      "metadata": {
        "colab": {
          "base_uri": "https://localhost:8080/"
        },
        "id": "L_pzqQleODHc",
        "outputId": "c626aa73-55fd-4b36-f4a0-e838347f9ae4"
      },
      "execution_count": null,
      "outputs": [
        {
          "output_type": "stream",
          "name": "stdout",
          "text": [
            "addition is 5\n"
          ]
        }
      ]
    },
    {
      "cell_type": "code",
      "source": [
        "def xyz(**num , name):\n",
        "  sum=0\n",
        "  print(num)\n",
        "  print(name)\n",
        "\n",
        "for i in num:\n",
        "  sum4=sum4+i\n",
        "print(f\"sum if {sum4}\")\n",
        "\n",
        "xyz(1,3,5, anme=\"chhavi\")"
      ],
      "metadata": {
        "colab": {
          "base_uri": "https://localhost:8080/",
          "height": 106
        },
        "id": "Mk5T9ZkAODQG",
        "outputId": "f4e64767-4add-4372-ef7e-9c038c37fe52"
      },
      "execution_count": null,
      "outputs": [
        {
          "output_type": "error",
          "ename": "SyntaxError",
          "evalue": "invalid syntax (<ipython-input-29-07a6784ec2fa>, line 1)",
          "traceback": [
            "\u001b[0;36m  File \u001b[0;32m\"<ipython-input-29-07a6784ec2fa>\"\u001b[0;36m, line \u001b[0;32m1\u001b[0m\n\u001b[0;31m    def xyz(**num , name):\u001b[0m\n\u001b[0m                    ^\u001b[0m\n\u001b[0;31mSyntaxError\u001b[0m\u001b[0;31m:\u001b[0m invalid syntax\n"
          ]
        }
      ]
    },
    {
      "cell_type": "code",
      "source": [
        "def info_person1(*args, **kwargs):\n",
        "  for i , in kwargs.items():\n",
        "   print(i,j)\n",
        "print(args)"
      ],
      "metadata": {
        "colab": {
          "base_uri": "https://localhost:8080/",
          "height": 176
        },
        "id": "WU-bywrfODzy",
        "outputId": "8e07aaac-59c3-4570-b224-0dfe50c9c865"
      },
      "execution_count": null,
      "outputs": [
        {
          "output_type": "error",
          "ename": "NameError",
          "evalue": "name 'args' is not defined",
          "traceback": [
            "\u001b[0;31m---------------------------------------------------------------------------\u001b[0m",
            "\u001b[0;31mNameError\u001b[0m                                 Traceback (most recent call last)",
            "\u001b[0;32m<ipython-input-33-04ddde6aaefd>\u001b[0m in \u001b[0;36m<cell line: 4>\u001b[0;34m()\u001b[0m\n\u001b[1;32m      2\u001b[0m   \u001b[0;32mfor\u001b[0m \u001b[0mi\u001b[0m \u001b[0;34m,\u001b[0m \u001b[0;32min\u001b[0m \u001b[0mkwargs\u001b[0m\u001b[0;34m.\u001b[0m\u001b[0mitems\u001b[0m\u001b[0;34m(\u001b[0m\u001b[0;34m)\u001b[0m\u001b[0;34m:\u001b[0m\u001b[0;34m\u001b[0m\u001b[0;34m\u001b[0m\u001b[0m\n\u001b[1;32m      3\u001b[0m    \u001b[0mprint\u001b[0m\u001b[0;34m(\u001b[0m\u001b[0mi\u001b[0m\u001b[0;34m,\u001b[0m\u001b[0mj\u001b[0m\u001b[0;34m)\u001b[0m\u001b[0;34m\u001b[0m\u001b[0;34m\u001b[0m\u001b[0m\n\u001b[0;32m----> 4\u001b[0;31m \u001b[0mprint\u001b[0m\u001b[0;34m(\u001b[0m\u001b[0margs\u001b[0m\u001b[0;34m)\u001b[0m\u001b[0;34m\u001b[0m\u001b[0;34m\u001b[0m\u001b[0m\n\u001b[0m",
            "\u001b[0;31mNameError\u001b[0m: name 'args' is not defined"
          ]
        }
      ]
    },
    {
      "cell_type": "code",
      "source": [
        "def area(a,b):\n",
        "  a =int(input(\"enter the height of wall\"))\n",
        "  b =int(input(\"enter the width of wall\"))\\\n",
        "  m=a*b\n",
        "area(10,20)\n",
        "\n",
        "numberofcans=area/7\n",
        "print(numberofcans)\n",
        "print(f\"number of cans is {numberofcans}\")\n",
        "\n"
      ],
      "metadata": {
        "colab": {
          "base_uri": "https://localhost:8080/",
          "height": 106
        },
        "id": "mdMW3cbFOEE1",
        "outputId": "f65e6b35-af28-4c17-e182-c86a5d8344dd"
      },
      "execution_count": null,
      "outputs": [
        {
          "output_type": "error",
          "ename": "SyntaxError",
          "evalue": "invalid syntax (<ipython-input-46-132ad1b987fc>, line 4)",
          "traceback": [
            "\u001b[0;36m  File \u001b[0;32m\"<ipython-input-46-132ad1b987fc>\"\u001b[0;36m, line \u001b[0;32m4\u001b[0m\n\u001b[0;31m    m=a*b\u001b[0m\n\u001b[0m    ^\u001b[0m\n\u001b[0;31mSyntaxError\u001b[0m\u001b[0;31m:\u001b[0m invalid syntax\n"
          ]
        }
      ]
    },
    {
      "cell_type": "code",
      "source": [
        "alphabets=[\"A\",\"B\",\"C\",\"D\",\"E\",\"F\",\"G\",\"H\",\"I\",\"J\",\"K\",\"L\",\"M\",\"N\",\"O\",\"P\",\"Q\",\"R\",\"S\",\"T\",\"U\",\"V\",\"W\",\"X\",\"Y\",\"Z\"]\n",
        "x=input(\"enter E for encription and D for decription\")\n",
        "\n"
      ],
      "metadata": {
        "colab": {
          "base_uri": "https://localhost:8080/"
        },
        "id": "X1YQ9czoOEPl",
        "outputId": "ae75c1fc-2bfb-4d28-da50-3a6335fe2839"
      },
      "execution_count": null,
      "outputs": [
        {
          "name": "stdout",
          "output_type": "stream",
          "text": [
            "enter E for encription and D for decriptionE\n"
          ]
        }
      ]
    },
    {
      "cell_type": "code",
      "source": [
        "#dictionaries\n",
        "studentdata={\n",
        "    \"chhavi\": {\"age\":19,\"phone\":999}\n",
        "}\n",
        "studentdata[\"chhavi\"]"
      ],
      "metadata": {
        "colab": {
          "base_uri": "https://localhost:8080/"
        },
        "id": "DGu7BYFzMzKK",
        "outputId": "0e04970f-24dd-4a96-d2ec-f8ea56a380f1"
      },
      "execution_count": null,
      "outputs": [
        {
          "output_type": "execute_result",
          "data": {
            "text/plain": [
              "{'age': 19, 'phone': 999}"
            ]
          },
          "metadata": {},
          "execution_count": 2
        }
      ]
    },
    {
      "cell_type": "code",
      "source": [
        "phone_no[\"chhavi\"] : 999\n",
        "print(phone_no)"
      ],
      "metadata": {
        "colab": {
          "base_uri": "https://localhost:8080/",
          "height": 158
        },
        "id": "Y6u_OG03NP2L",
        "outputId": "161b351c-d3ec-4de0-b3fe-3ee60e0aca76"
      },
      "execution_count": null,
      "outputs": [
        {
          "output_type": "error",
          "ename": "NameError",
          "evalue": "name 'phone_no' is not defined",
          "traceback": [
            "\u001b[0;31m---------------------------------------------------------------------------\u001b[0m",
            "\u001b[0;31mNameError\u001b[0m                                 Traceback (most recent call last)",
            "\u001b[0;32m<ipython-input-12-892b2f160bbc>\u001b[0m in \u001b[0;36m<cell line: 1>\u001b[0;34m()\u001b[0m\n\u001b[0;32m----> 1\u001b[0;31m \u001b[0mphone_no\u001b[0m\u001b[0;34m[\u001b[0m\u001b[0;34m\"chhavi\"\u001b[0m\u001b[0;34m]\u001b[0m \u001b[0;34m:\u001b[0m \u001b[0;36m999\u001b[0m\u001b[0;34m\u001b[0m\u001b[0;34m\u001b[0m\u001b[0m\n\u001b[0m\u001b[1;32m      2\u001b[0m \u001b[0mprint\u001b[0m\u001b[0;34m(\u001b[0m\u001b[0mphone_no\u001b[0m\u001b[0;34m)\u001b[0m\u001b[0;34m\u001b[0m\u001b[0;34m\u001b[0m\u001b[0m\n",
            "\u001b[0;31mNameError\u001b[0m: name 'phone_no' is not defined"
          ]
        }
      ]
    },
    {
      "cell_type": "code",
      "source": [
        "from re import U\n",
        "data = {\n",
        "  1:\"Upes\",\n",
        "  2:\"chhavi\",\n",
        "  0:\"socs\"\n",
        "}\n",
        "print(data[0])\n",
        "del data[1]\n",
        "print(data)\n",
        "data.pop(2)\n",
        "print(data)\n",
        "data.popitem()\n",
        "print(data)\n",
        "data.clear()\n",
        "print(data)"
      ],
      "metadata": {
        "colab": {
          "base_uri": "https://localhost:8080/"
        },
        "id": "sCfEvARROSlL",
        "outputId": "ce61197e-16a5-43b1-ea62-e29afbc0c57c"
      },
      "execution_count": null,
      "outputs": [
        {
          "output_type": "stream",
          "name": "stdout",
          "text": [
            "socs\n",
            "{2: 'chhavi', 0: 'socs'}\n",
            "{0: 'socs'}\n",
            "{}\n",
            "{}\n"
          ]
        }
      ]
    },
    {
      "cell_type": "code",
      "source": [
        "data = {\n",
        "  1:\"Upes\",\n",
        "  2:\"chhavi\",\n",
        "  0:\"socs\"\n",
        "}\n",
        "for i in data:\n",
        "  print(i)\n",
        "  print(data[i])\n",
        "for i in data:\n",
        "  print(i)\n",
        "print(data[i])\n",
        "\n",
        "for i in data.items():\n",
        "  print(i)"
      ],
      "metadata": {
        "colab": {
          "base_uri": "https://localhost:8080/"
        },
        "id": "Y2ZyptugPdpU",
        "outputId": "741ec825-7d77-4da7-da06-d5c55b9c0d78"
      },
      "execution_count": null,
      "outputs": [
        {
          "output_type": "stream",
          "name": "stdout",
          "text": [
            "1\n",
            "Upes\n",
            "2\n",
            "chhavi\n",
            "0\n",
            "socs\n",
            "1\n",
            "2\n",
            "0\n",
            "socs\n",
            "(1, 'Upes')\n",
            "(2, 'chhavi')\n",
            "(0, 'socs')\n"
          ]
        }
      ]
    },
    {
      "cell_type": "code",
      "source": [
        "student_marks={\n",
        "    \"chhavi\":19,\n",
        "    \"arya\":22,\n",
        "    \"ravi\":90,\n",
        "    \"addy\":77,\n",
        "    \"adi\":70,\n",
        "    \"krish\":89,\n",
        "    \"riya\":80,\n",
        "    \"anshu\":78,\n",
        "    \"deepa\":100,\n",
        "    \"sanjay\":99\n",
        "}\n",
        "for i in student_marks:\n",
        "  if student_marks[i]>100:\n",
        "    student_marks[i]=\"o+\"\n",
        "  elif student_marks[i]>90:\n",
        "    student_marks[i]:\"a+\"\n",
        "  elif student_marks[i]>30:\n",
        "   student_marks[i]=\"c+\"\n",
        "print(student_marks)"
      ],
      "metadata": {
        "colab": {
          "base_uri": "https://localhost:8080/"
        },
        "id": "oN4gmZWURwm4",
        "outputId": "13052201-86ee-4b01-fb31-c31d1ed467df"
      },
      "execution_count": null,
      "outputs": [
        {
          "output_type": "stream",
          "name": "stdout",
          "text": [
            "{'chhavi': 19, 'arya': 22, 'ravi': 'c+', 'addy': 'c+', 'adi': 'c+', 'krish': 'c+', 'riya': 'c+', 'anshu': 'c+', 'deepa': 100, 'sanjay': 99}\n"
          ]
        }
      ]
    },
    {
      "cell_type": "code",
      "source": [
        "travel={\n",
        "    \"gujrat\":[\"baroda\",\"surat\",\"statue of unity\"],\n",
        "    \"kashmir\":[\"srinagar\",\"gulmarg\",\"pahalgam\"]\n",
        "}\n",
        "travel[\"gujrat\"].pop(0)\n",
        "print(travel)"
      ],
      "metadata": {
        "colab": {
          "base_uri": "https://localhost:8080/"
        },
        "id": "qzxjnp8jPd-R",
        "outputId": "0991637f-a3cc-4c70-8857-8e4ad3aa5685"
      },
      "execution_count": null,
      "outputs": [
        {
          "output_type": "stream",
          "name": "stdout",
          "text": [
            "{'gujrat': ['surat', 'statue of unity'], 'kashmir': ['srinagar', 'gulmarg', 'pahalgam']}\n"
          ]
        }
      ]
    },
    {
      "cell_type": "code",
      "source": [
        "corpus={\n",
        "    \"the quick brown fox jumped over the lazy dog\",\n",
        "    \"she sells seashells by the seashore\",\n",
        "    \"peter piper picked a pack of pickled peppers\"\n",
        "}\n",
        "unique_word=set()\n",
        "for sentence in corpus:\n",
        "  for word in sentence split"
      ],
      "metadata": {
        "id": "Yuhc2PHLYtIM"
      },
      "execution_count": null,
      "outputs": []
    },
    {
      "cell_type": "code",
      "source": [
        "def add(a,b):\n",
        " c=a+b\n",
        " return c\n",
        "add(3,4)"
      ],
      "metadata": {
        "colab": {
          "base_uri": "https://localhost:8080/"
        },
        "id": "yMw7ZtvM6P21",
        "outputId": "f899da47-3f3b-4650-9df5-07efd8bb3b1a"
      },
      "execution_count": null,
      "outputs": [
        {
          "output_type": "execute_result",
          "data": {
            "text/plain": [
              "7"
            ]
          },
          "metadata": {},
          "execution_count": 3
        }
      ]
    },
    {
      "cell_type": "code",
      "source": [
        "def add(a,b):\n",
        "  c=a+b\n",
        "  return\n",
        "result=add(3,4)\n",
        "print(result)"
      ],
      "metadata": {
        "colab": {
          "base_uri": "https://localhost:8080/"
        },
        "id": "LO6zktnm64cZ",
        "outputId": "051470dd-acfa-480a-c97b-1925f632fce3"
      },
      "execution_count": null,
      "outputs": [
        {
          "output_type": "stream",
          "name": "stdout",
          "text": [
            "None\n"
          ]
        }
      ]
    },
    {
      "cell_type": "code",
      "source": [
        "\n",
        "def function():\n",
        "  a=10\n",
        "\n",
        "  a=a+1\n",
        "  print(a)\n",
        "function()"
      ],
      "metadata": {
        "colab": {
          "base_uri": "https://localhost:8080/"
        },
        "id": "O-pE0z8M7R36",
        "outputId": "11ce7945-fa3f-4bac-9ba4-586048df9b0e"
      },
      "execution_count": null,
      "outputs": [
        {
          "output_type": "stream",
          "name": "stdout",
          "text": [
            "11\n"
          ]
        }
      ]
    },
    {
      "cell_type": "code",
      "source": [
        "def add(a,b):\n",
        "  c=a+b\n",
        "  #return\"this is our first class\"\n",
        "  return c\n",
        "result=add(3,4)\n",
        "print(result)"
      ],
      "metadata": {
        "colab": {
          "base_uri": "https://localhost:8080/"
        },
        "id": "05rXutZa8T6S",
        "outputId": "89248692-9b9f-4217-ff63-be1bf3e9f21c"
      },
      "execution_count": null,
      "outputs": [
        {
          "output_type": "stream",
          "name": "stdout",
          "text": [
            "7\n"
          ]
        }
      ]
    },
    {
      "cell_type": "code",
      "source": [
        "#title case\n",
        "def format_name(f_name,l_name):\n",
        "  x=f_name.title()\n",
        "  y=l_name.title()\n",
        "  print(f\" {x} {y}\")\n",
        "\n",
        "format_name(\"chhAVI\",\"chauHAN\")"
      ],
      "metadata": {
        "colab": {
          "base_uri": "https://localhost:8080/"
        },
        "id": "9KXeEAyL-Hpi",
        "outputId": "de09352a-39b0-425f-d493-fc6175299f91"
      },
      "execution_count": null,
      "outputs": [
        {
          "output_type": "stream",
          "name": "stdout",
          "text": [
            " Chhavi Chauhan\n"
          ]
        }
      ]
    },
    {
      "cell_type": "code",
      "source": [
        "import statistics\n",
        "def MMM(list):\n",
        "  return statistics.mean(list),statistics.median(list),statistics.mode(list)\n",
        "  print(\"chhavi chauhan\")\n",
        "\n",
        "a,b,c=MMM([26,34,89,92,28,16])\n",
        "print(f\"mean is {a}\\n median is {b}\\n mode is {c}\")"
      ],
      "metadata": {
        "colab": {
          "base_uri": "https://localhost:8080/"
        },
        "id": "kUC762rd_N_b",
        "outputId": "31abddc8-f7e4-48ee-f208-e2e72375d2d2"
      },
      "execution_count": null,
      "outputs": [
        {
          "output_type": "stream",
          "name": "stdout",
          "text": [
            "mean is 47.5\n",
            " median is 31.0\n",
            " mode is 26\n"
          ]
        }
      ]
    },
    {
      "cell_type": "code",
      "source": [
        "def fun():\n",
        "  a=12\n",
        "  pritn(a)\n",
        "fun()\n",
        "print(a)"
      ],
      "metadata": {
        "id": "ATA4_9-_AypL"
      },
      "execution_count": null,
      "outputs": []
    },
    {
      "cell_type": "code",
      "source": [
        "b=13\n",
        "def fun():\n",
        "  f=12\n",
        "  print(b)\n",
        "fun()"
      ],
      "metadata": {
        "colab": {
          "base_uri": "https://localhost:8080/"
        },
        "id": "isJh_48-EEn0",
        "outputId": "ded010d0-6ff9-4a6b-c582-19c4d5062edd"
      },
      "execution_count": null,
      "outputs": [
        {
          "output_type": "stream",
          "name": "stdout",
          "text": [
            "13\n"
          ]
        }
      ]
    },
    {
      "cell_type": "code",
      "source": [
        "ab=11\n",
        "def display():\n",
        "  ab=111\n",
        "  def show():\n",
        "    print(ab)\n",
        "  show()\n",
        "display()"
      ],
      "metadata": {
        "colab": {
          "base_uri": "https://localhost:8080/"
        },
        "id": "dQLBG8JgFEyp",
        "outputId": "7f487efa-f42c-4ee6-d31b-1f03b692c3ed"
      },
      "execution_count": null,
      "outputs": [
        {
          "output_type": "stream",
          "name": "stdout",
          "text": [
            "111\n"
          ]
        }
      ]
    },
    {
      "cell_type": "code",
      "source": [
        "def DISPLAY():\n",
        "  A=20\n",
        "  def SHOW():\n",
        "    global A\n",
        "    A=31\n",
        "  print(A)\n",
        "  SHOW()\n",
        "  print(A)\n",
        "DISPLAY()\n",
        "print(A)"
      ],
      "metadata": {
        "colab": {
          "base_uri": "https://localhost:8080/"
        },
        "id": "cTPBN-0UFyKK",
        "outputId": "91395e84-e184-4786-a0fe-2dfa3ed6f0bd"
      },
      "execution_count": null,
      "outputs": [
        {
          "output_type": "stream",
          "name": "stdout",
          "text": [
            "20\n",
            "20\n",
            "31\n"
          ]
        }
      ]
    },
    {
      "cell_type": "code",
      "source": [],
      "metadata": {
        "id": "8GOK7tFgGB_2"
      },
      "execution_count": null,
      "outputs": []
    }
  ]
}